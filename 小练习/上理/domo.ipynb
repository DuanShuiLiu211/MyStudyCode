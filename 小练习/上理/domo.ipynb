{
 "cells": [
  {
   "cell_type": "code",
   "execution_count": 1,
   "metadata": {},
   "outputs": [],
   "source": [
    "import os\n",
    "import glob\n",
    "import tifffile\n",
    "import numpy as np\n",
    "import torch\n",
    "import cv2 as cv\n",
    "import matplotlib.pyplot as plot"
   ]
  },
  {
   "attachments": {},
   "cell_type": "markdown",
   "metadata": {},
   "source": [
    "# 选择关键帧率"
   ]
  },
  {
   "cell_type": "code",
   "execution_count": 25,
   "metadata": {},
   "outputs": [
    {
     "name": "stdout",
     "output_type": "stream",
     "text": [
      "运行完成\n"
     ]
    }
   ],
   "source": [
    "file_name = \"Averaged shifted histograms 10.tif\"\n",
    "\n",
    "input_high = tifffile.imread(\n",
    "    f\"/Users/WangHao/Desktop/Paper ImT UNet/data_0913/PreImage/high/{file_name}\"\n",
    ")\n",
    "\n",
    "input_low = tifffile.imread(\n",
    "    f\"/Users/WangHao/Desktop/Paper ImT UNet/data_0913/PreImage/low/{file_name}\"\n",
    ")\n",
    "\n",
    "index_l = 7\n",
    "index_r = 12\n",
    "\n",
    "output_high = input_high[index_l : index_r, ...]\n",
    "\n",
    "output_low = input_low[index_l : index_r, ...]\n",
    "\n",
    "tifffile.imsave(\n",
    "    f\"/Users/WangHao/Desktop/Paper ImT UNet/data_0913/PreImage/high/1/{file_name}\",\n",
    "    output_high)\n",
    "\n",
    "tifffile.imsave(\n",
    "    f\"/Users/WangHao/Desktop/Paper ImT UNet/data_0913/PreImage/low/1/{file_name}\",\n",
    "    output_low)\n",
    "\n",
    "print('运行完成')"
   ]
  },
  {
   "attachments": {},
   "cell_type": "markdown",
   "metadata": {},
   "source": [
    "# 去除黑边"
   ]
  },
  {
   "cell_type": "code",
   "execution_count": null,
   "metadata": {},
   "outputs": [],
   "source": [
    "input = tifffile.imread(\n",
    "    \"/Users/WangHao/Desktop/Paper ImT UNet/data_0913/PreImage/Averaged shifted histograms 11.tif\"\n",
    ")\n",
    "\n",
    "z_project = np.sum(input, 0)\n",
    "x_sum = np.sum(z_project, axis=0)\n",
    "y_sum = np.sum(z_project, axis=1)\n",
    "\n",
    "up = 0\n",
    "down = z_project.shape[0]\n",
    "left = 0\n",
    "right = z_project.shape[1]\n",
    "\n",
    "up = min(np.where(y_sum != 0)[0]) - 10 if min(np.where(y_sum != 0)[0]) > 10 else 0\n",
    "down = max(np.where(y_sum != 0)[0]) + 10 if max(np.where(\n",
    "    y_sum != 0)[0]) < z_project.shape[0] - 10 else z_project.shape[0]\n",
    "left = min(np.where(x_sum != 0)[0]) - 10 if min(np.where(x_sum != 0)[0]) > 10 else 0\n",
    "right = max(np.where(x_sum != 0)[0]) + 10 if min(np.where(\n",
    "    x_sum != 0)[0]) < z_project.shape[1] - 10 else z_project.shape[1]\n",
    "\n",
    "\n",
    "output = input[:, up:down, left:right]\n",
    "\n",
    "tifffile.imsave(\n",
    "    \"/Users/WangHao/Desktop/Paper ImT UNet/data_0913/PreImage/Averaged shifted histograms 11.tif\",\n",
    "    output)\n",
    "\n",
    "print('运行完成')"
   ]
  },
  {
   "attachments": {},
   "cell_type": "markdown",
   "metadata": {},
   "source": [
    "# 滑动截取ROI区域"
   ]
  },
  {
   "cell_type": "code",
   "execution_count": 26,
   "metadata": {},
   "outputs": [
    {
     "name": "stdout",
     "output_type": "stream",
     "text": [
      "运行完成\n"
     ]
    },
    {
     "data": {
      "image/png": "[encoded data removed]",
      "text/plain": [
       "<Figure size 640x480 with 1 Axes>"
      ]
     },
     "metadata": {},
     "output_type": "display_data"
    }
   ],
   "source": [
    "name = 10\n",
    "\n",
    "input_high = tifffile.imread(\n",
    "    f\"/Users/WangHao/Desktop/Paper ImT UNet/data_0913/PreImage/high/1/Averaged shifted histograms {name}.tif\"\n",
    ")\n",
    "\n",
    "input_low = tifffile.imread(\n",
    "    f\"/Users/WangHao/Desktop/Paper ImT UNet/data_0913/PreImage/low/1/Averaged shifted histograms {name}.tif\"\n",
    ")\n",
    "\n",
    "data_dict = {}\n",
    "point_list = []\n",
    "size = 128\n",
    "step = 32\n",
    "_, h, w = input_high.shape\n",
    "for x in range(0, w - size, step):\n",
    "    for y in range(0, h - size, step):\n",
    "        crop_data_high = input_high[:, y:y + size, x:x + size]\n",
    "        crop_data_high = cv.resize(crop_data_high.transpose(1, 2, 0),\n",
    "                              (64, 64)).transpose(2, 0, 1)\n",
    "\n",
    "        crop_data_low = input_low[:, y:y + size, x:x + size]\n",
    "        crop_data_low = cv.resize(crop_data_low.transpose(1, 2, 0),\n",
    "                              (64, 64)).transpose(2, 0, 1)\n",
    "\n",
    "        z_project = np.sum(crop_data_high, 0)\n",
    "        z_project[z_project != 0] = 1\n",
    "\n",
    "        count_point = np.sum(z_project)\n",
    "        point_list.append(count_point)\n",
    "\n",
    "        data_dict[f\"{x}:{y}:{count_point}\"] = [crop_data_high, crop_data_low]\n",
    "\n",
    "plot.hist(point_list)\n",
    "\n",
    "print('运行完成')"
   ]
  },
  {
   "cell_type": "code",
   "execution_count": 27,
   "metadata": {},
   "outputs": [
    {
     "name": "stdout",
     "output_type": "stream",
     "text": [
      "运行完成\n"
     ]
    }
   ],
   "source": [
    "flag = False\n",
    "\n",
    "if flag:\n",
    "    i = 1\n",
    "\n",
    "for k, data in data_dict.items():\n",
    "    if float(k.split(\":\")[-1]) > 550:\n",
    "        data_high, data_low = data\n",
    "        data_high_lr = np.flip(data_high.transpose(1, 2, 0), 0).transpose(2, 0, 1)\n",
    "        data_high_up = np.flip(data_high.transpose(1, 2, 0), 1).transpose(2, 0, 1)\n",
    "        data_low_lr = np.flip(data_low.transpose(1, 2, 0), 0).transpose(2, 0, 1)\n",
    "        data_low_up = np.flip(data_low.transpose(1, 2, 0), 1).transpose(2, 0, 1)\n",
    "        \n",
    "        data_high_90 = np.rot90(data_high.transpose(1, 2, 0)).transpose(2, 0, 1)\n",
    "        data_high_90_lr = np.flip(np.rot90(data_high.transpose(1, 2, 0)), 0).transpose(2, 0, 1)\n",
    "        data_high_90_up = np.flip(np.rot90(data_high.transpose(1, 2, 0)), 1).transpose(2, 0, 1)\n",
    "\n",
    "        data_high_180 = np.rot90(data_high_90.transpose(1, 2, 0)).transpose(2, 0, 1)\n",
    "        data_high_180_lr = np.flip(np.rot90(data_high_90.transpose(1, 2, 0)), 0).transpose(2, 0, 1)\n",
    "        data_high_180_up = np.flip(np.rot90(data_high_90.transpose(1, 2, 0)), 1).transpose(2, 0, 1)\n",
    "        \n",
    "        data_high_270 = np.rot90(data_high_180.transpose(1, 2, 0)).transpose(2, 0, 1)\n",
    "        data_high_270_lr = np.flip(np.rot90(data_high_180.transpose(1, 2, 0)), 0).transpose(2, 0, 1)\n",
    "        data_high_270_up = np.flip(np.rot90(data_high_180.transpose(1, 2, 0)), 1).transpose(2, 0, 1)\n",
    "        \n",
    "        data_low_90 = np.rot90(data_low.transpose(1, 2, 0)).transpose(2, 0, 1)\n",
    "        data_low_90_lr = np.flip(np.rot90(data_low.transpose(1, 2, 0)), 0).transpose(2, 0, 1)\n",
    "        data_low_90_up = np.flip(np.rot90(data_low.transpose(1, 2, 0)), 1).transpose(2, 0, 1)\n",
    "        \n",
    "        data_low_180 = np.rot90(data_low_90.transpose(1, 2, 0)).transpose(2, 0, 1)\n",
    "        data_low_180_lr = np.flip(np.rot90(data_low_90.transpose(1, 2, 0)), 0).transpose(2, 0, 1)\n",
    "        data_low_180_up = np.flip(np.rot90(data_low_90.transpose(1, 2, 0)), 1).transpose(2, 0, 1)\n",
    "        \n",
    "        data_low_270 = np.rot90(data_low_180.transpose(1, 2, 0)).transpose(2, 0, 1)\n",
    "        data_low_270_lr = np.flip(np.rot90(data_low_180.transpose(1, 2, 0)), 0).transpose(2, 0, 1)\n",
    "        data_low_270_up = np.flip(np.rot90(data_low_180.transpose(1, 2, 0)), 1).transpose(2, 0, 1)\n",
    "\n",
    "        tifffile.imsave(\n",
    "            f\"/Users/WangHao/Desktop/Paper ImT UNet/data_0913/datasets/labels/{i}.tif\",\n",
    "            data_high)\n",
    "        tifffile.imsave(\n",
    "            f\"/Users/WangHao/Desktop/Paper ImT UNet/data_0913/datasets/labels/{i+1}.tif\",\n",
    "            data_high_lr)\n",
    "        tifffile.imsave(\n",
    "            f\"/Users/WangHao/Desktop/Paper ImT UNet/data_0913/datasets/labels/{i+2}.tif\",\n",
    "            data_high_up)\n",
    "        tifffile.imsave(\n",
    "            f\"/Users/WangHao/Desktop/Paper ImT UNet/data_0913/datasets/labels/{i+3}.tif\",\n",
    "            data_high_90)\n",
    "        tifffile.imsave(\n",
    "            f\"/Users/WangHao/Desktop/Paper ImT UNet/data_0913/datasets/labels/{i+4}.tif\",\n",
    "            data_high_90_lr)\n",
    "        tifffile.imsave(\n",
    "            f\"/Users/WangHao/Desktop/Paper ImT UNet/data_0913/datasets/labels/{i+5}.tif\",\n",
    "            data_high_90_up)\n",
    "        tifffile.imsave(\n",
    "            f\"/Users/WangHao/Desktop/Paper ImT UNet/data_0913/datasets/labels/{i+6}.tif\",\n",
    "            data_high_180)\n",
    "        tifffile.imsave(\n",
    "            f\"/Users/WangHao/Desktop/Paper ImT UNet/data_0913/datasets/labels/{i+7}.tif\",\n",
    "            data_high_180_lr)\n",
    "        tifffile.imsave(\n",
    "            f\"/Users/WangHao/Desktop/Paper ImT UNet/data_0913/datasets/labels/{i+8}.tif\",\n",
    "            data_high_180_up)\n",
    "        tifffile.imsave(\n",
    "            f\"/Users/WangHao/Desktop/Paper ImT UNet/data_0913/datasets/labels/{i+9}.tif\",\n",
    "            data_high_270)\n",
    "        tifffile.imsave(\n",
    "            f\"/Users/WangHao/Desktop/Paper ImT UNet/data_0913/datasets/labels/{i+10}.tif\",\n",
    "            data_high_270_lr)\n",
    "        tifffile.imsave(\n",
    "            f\"/Users/WangHao/Desktop/Paper ImT UNet/data_0913/datasets/labels/{i+11}.tif\",\n",
    "            data_high_270_up)\n",
    "\n",
    "        tifffile.imsave(\n",
    "            f\"/Users/WangHao/Desktop/Paper ImT UNet/data_0913/datasets/inputs/{i}.tif\",\n",
    "            data_low)\n",
    "        tifffile.imsave(\n",
    "            f\"/Users/WangHao/Desktop/Paper ImT UNet/data_0913/datasets/inputs/{i+1}.tif\",\n",
    "            data_low_lr)\n",
    "        tifffile.imsave(\n",
    "            f\"/Users/WangHao/Desktop/Paper ImT UNet/data_0913/datasets/inputs/{i+2}.tif\",\n",
    "            data_low_up)\n",
    "        tifffile.imsave(\n",
    "            f\"/Users/WangHao/Desktop/Paper ImT UNet/data_0913/datasets/inputs/{i+3}.tif\",\n",
    "            data_low_90)\n",
    "        tifffile.imsave(\n",
    "            f\"/Users/WangHao/Desktop/Paper ImT UNet/data_0913/datasets/inputs/{i+4}.tif\",\n",
    "            data_low_90_lr)\n",
    "        tifffile.imsave(\n",
    "            f\"/Users/WangHao/Desktop/Paper ImT UNet/data_0913/datasets/inputs/{i+5}.tif\",\n",
    "            data_low_90_up)\n",
    "        tifffile.imsave(\n",
    "            f\"/Users/WangHao/Desktop/Paper ImT UNet/data_0913/datasets/inputs/{i+6}.tif\",\n",
    "            data_low_180)\n",
    "        tifffile.imsave(\n",
    "            f\"/Users/WangHao/Desktop/Paper ImT UNet/data_0913/datasets/inputs/{i+7}.tif\",\n",
    "            data_low_180_lr)\n",
    "        tifffile.imsave(\n",
    "            f\"/Users/WangHao/Desktop/Paper ImT UNet/data_0913/datasets/inputs/{i+8}.tif\",\n",
    "            data_low_180_up)\n",
    "        tifffile.imsave(\n",
    "            f\"/Users/WangHao/Desktop/Paper ImT UNet/data_0913/datasets/inputs/{i+9}.tif\",\n",
    "            data_low_270)\n",
    "        tifffile.imsave(\n",
    "            f\"/Users/WangHao/Desktop/Paper ImT UNet/data_0913/datasets/inputs/{i+10}.tif\",\n",
    "            data_low_270_lr)\n",
    "        tifffile.imsave(\n",
    "            f\"/Users/WangHao/Desktop/Paper ImT UNet/data_0913/datasets/inputs/{i+11}.tif\",\n",
    "            data_low_270_up)\n",
    "\n",
    "        i += 12\n",
    "        \n",
    "print('运行完成')"
   ]
  },
  {
   "cell_type": "code",
   "execution_count": 18,
   "metadata": {},
   "outputs": [],
   "source": [
    "result_dir = \"/Users/WangHao/Desktop/Paper ImT UNet/论文用图/fig3/label\"\n",
    "result_path_list = glob.glob(f\"{result_dir}/*.tif\")\n",
    "\n",
    "def data_to_one(inputs):\n",
    "    assert not np.any(np.isnan(inputs))\n",
    "    data_min = np.nanmin(inputs, axis=(-2, -1), keepdims=True)\n",
    "    data_max = np.nanmax(inputs, axis=(-2, -1), keepdims=True)\n",
    "    outputs = (inputs - data_min) / (data_max - data_min + 1e-8)\n",
    "\n",
    "    return outputs\n",
    "\n",
    "for result_path in result_path_list:\n",
    "    result_data = data_to_one(tifffile.imread(result_path))\n",
    "    tifffile.imsave(result_path, result_data)\n",
    "    "
   ]
  },
  {
   "cell_type": "code",
   "execution_count": 16,
   "metadata": {},
   "outputs": [
    {
     "name": "stdout",
     "output_type": "stream",
     "text": [
      "0.013901914328026274\n"
     ]
    }
   ],
   "source": [
    "loss_mse = torch.nn.MSELoss()\n",
    "loss_list = []\n",
    "\n",
    "result_dir = \"/Users/WangHao/Desktop/Paper ImT UNet/result_0922/二维人脸\"\n",
    "result_path_list = glob.glob(f\"{result_dir}/*.png\")\n",
    "\n",
    "label_dir = \"/Users/WangHao/Sites/学习/Python/ChildNet/data_input_label/face_speckle/label\"\n",
    "label_path_list = glob.glob(f\"{label_dir}/*.png\")\n",
    "\n",
    "for result_path in result_path_list:\n",
    "    for label_path in label_path_list:\n",
    "        if os.path.basename(label_path) in result_path:\n",
    "            result_data = cv.imread(result_path)[..., 0] / 255\n",
    "            result_data = torch.tensor(result_data, dtype=torch.float32)\n",
    "            label_data = np.flip(cv.resize(cv.imread(label_path), [200, 200]), 1)[..., 0] / 255\n",
    "            label_data = torch.tensor(label_data.copy(), dtype=torch.float32)\n",
    "            loss = loss_mse(result_data, label_data)\n",
    "            loss_list.append(loss.item())\n",
    "\n",
    "print(sum(loss_list)/len(loss_list))"
   ]
  },
  {
   "cell_type": "code",
   "execution_count": 1,
   "metadata": {},
   "outputs": [
    {
     "name": "stdout",
     "output_type": "stream",
     "text": [
      "ABCcba153\n"
     ]
    }
   ],
   "source": [
    "def sort_string(s):\n",
    "    # 将字符串按照大小写分成两个列表\n",
    "    upper = []\n",
    "    lower = []\n",
    "    other = []\n",
    "    for c in s:\n",
    "        if c.isupper():\n",
    "            upper.append(c)\n",
    "        elif c.islower():\n",
    "            lower.append(c)\n",
    "        else:\n",
    "            other.append(c)\n",
    "\n",
    "    # 对于大写字母列表，按照升序排序\n",
    "    upper.sort()\n",
    "\n",
    "    # 对于小写字母列表，按照降序排序\n",
    "    lower.sort(reverse=True)\n",
    "\n",
    "    # 将两个排序后的列表合并，再加上其他字符\n",
    "    result = upper + lower + other\n",
    "\n",
    "    # 将最终的字符列表转换成字符串输出\n",
    "    return ''.join(result)\n",
    "\n",
    "s = \"C1bc5A3Ba\"\n",
    "print(sort_string(s))  # 输出：ABCcbal53"
   ]
  }
 ],
 "metadata": {
  "kernelspec": {
   "display_name": "tensor",
   "language": "python",
   "name": "python3"
  },
  "language_info": {
   "codemirror_mode": {
    "name": "ipython",
    "version": 3
   },
   "file_extension": ".py",
   "mimetype": "text/x-python",
   "name": "python",
   "nbconvert_exporter": "python",
   "pygments_lexer": "ipython3",
   "version": "3.8.16"
  },
  "orig_nbformat": 4,
  "vscode": {
   "interpreter": {
    "hash": "f7567524e79b96d316162151a38259d28be4bc298929f85b9103bf7fbca02c0d"
   }
  }
 },
 "nbformat": 4,
 "nbformat_minor": 2
}
