{
 "cells": [
  {
   "cell_type": "code",
   "execution_count": 20,
   "metadata": {
    "pycharm": {
     "name": "#%%\n"
    }
   },
   "outputs": [],
   "source": [
    "class Fib(object):\n",
    "    def __init__(self, num):\n",
    "        super(Fib, self).__init__()\n",
    "        self.max = num\n",
    "        self.flag = -1\n",
    "\n",
    "    def __iter__(self):\n",
    "        self.x = 0\n",
    "        self.y = 1\n",
    "        return self\n",
    "\n",
    "    def __next__(self):\n",
    "        fib = self.x\n",
    "        if fib > self.max:\n",
    "            raise StopIteration\n",
    "        self.x, self.y = self.y, self.x + self.y  # f(n), f(n+1) = f(n+1), f(n) + f(n+1)\n",
    "        self.flag = self.flag + 1\n",
    "        return fib"
   ]
  },
  {
   "cell_type": "code",
   "execution_count": 27,
   "metadata": {
    "pycharm": {
     "name": "#%%\n"
    }
   },
   "outputs": [],
   "source": [
    "fib = Fib(4)"
   ]
  },
  {
   "cell_type": "code",
   "execution_count": 36,
   "metadata": {
    "pycharm": {
     "name": "#%%\n"
    }
   },
   "outputs": [],
   "source": [
    "def count(num):\n",
    "    a = 1\n",
    "    b = 0\n",
    "    for _ in range(num):\n",
    "        a = 2 * a\n",
    "        b = b + a\n",
    "\n",
    "    return b"
   ]
  }
 ],
 "metadata": {
  "kernelspec": {
   "display_name": "Python 3.9.12 ('tensor')",
   "language": "python",
   "name": "python3"
  },
  "language_info": {
   "codemirror_mode": {
    "name": "ipython",
    "version": 3
   },
   "file_extension": ".py",
   "mimetype": "text/x-python",
   "name": "python",
   "nbconvert_exporter": "python",
   "pygments_lexer": "ipython3",
   "version": "3.9.12"
  },
  "orig_nbformat": 4,
  "vscode": {
   "interpreter": {
    "hash": "f7567524e79b96d316162151a38259d28be4bc298929f85b9103bf7fbca02c0d"
   }
  }
 },
 "nbformat": 4,
 "nbformat_minor": 2
}