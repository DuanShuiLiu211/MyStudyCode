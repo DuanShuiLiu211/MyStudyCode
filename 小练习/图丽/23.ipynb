{
 "cells": [
  {
   "cell_type": "markdown",
   "metadata": {},
   "source": [
    "# 一些多进程的简单模型"
   ]
  },
  {
   "cell_type": "code",
   "execution_count": null,
   "metadata": {},
   "outputs": [],
   "source": [
    "import multiprocessing\n",
    "import time\n",
    "\n",
    "\n",
    "def worker(name):\n",
    "    print(f\"{name}: Starting\")\n",
    "    time.sleep(2)  # 模拟任务执行\n",
    "    print(f\"{name}: Exiting\")\n",
    "\n",
    "\n",
    "def main():\n",
    "    processes = []\n",
    "    for i in range(5):\n",
    "        process = multiprocessing.Process(target=worker, args=(f\"Process-{i}\",))\n",
    "        processes.append(process)\n",
    "\n",
    "    for process in processes:\n",
    "        process.start()\n",
    "\n",
    "    for process in processes:\n",
    "        process.join()\n",
    "\n",
    "\n",
    "if __name__ == \"__main__\":\n",
    "    main()"
   ]
  },
  {
   "cell_type": "code",
   "execution_count": null,
   "metadata": {},
   "outputs": [],
   "source": [
    "import multiprocessing\n",
    "import time\n",
    "\n",
    "\n",
    "class MyProcess(multiprocessing.Process):\n",
    "    def __init__(self, name):\n",
    "        super().__init__()\n",
    "        self.name = name\n",
    "\n",
    "    def run(self):\n",
    "        print(f\"{self.name}: Starting\")\n",
    "        time.sleep(2)  # 模拟任务执行\n",
    "        print(f\"{self.name}: Exiting\")\n",
    "\n",
    "\n",
    "def main():\n",
    "    processes = []\n",
    "    for i in range(5):\n",
    "        process = MyProcess(name=f\"Process-{i}\")\n",
    "        processes.append(process)\n",
    "\n",
    "    for process in processes:\n",
    "        process.start()\n",
    "\n",
    "    for process in processes:\n",
    "        process.join()\n",
    "\n",
    "\n",
    "if __name__ == \"__main__\":\n",
    "    main()"
   ]
  },
  {
   "cell_type": "code",
   "execution_count": null,
   "metadata": {},
   "outputs": [],
   "source": [
    "import multiprocessing\n",
    "import time\n",
    "\n",
    "\n",
    "def worker(name):\n",
    "    print(f\"{name}: Starting\")\n",
    "    time.sleep(2)  # 模拟任务执行\n",
    "    print(f\"{name}: Exiting\")\n",
    "\n",
    "\n",
    "def main():\n",
    "    pool = multiprocessing.Pool(processes=5)\n",
    "    names = [f\"Process-{i}\" for i in range(5)]\n",
    "    pool.map(worker, names)\n",
    "    pool.close()\n",
    "    pool.join()\n",
    "\n",
    "\n",
    "if __name__ == \"__main__\":\n",
    "    main()"
   ]
  },
  {
   "cell_type": "code",
   "execution_count": null,
   "metadata": {},
   "outputs": [],
   "source": [
    "from concurrent.futures import ProcessPoolExecutor\n",
    "import time\n",
    "\n",
    "\n",
    "def worker(name):\n",
    "    print(f\"{name}: Starting\")\n",
    "    time.sleep(2)  # 模拟任务执行\n",
    "    print(f\"{name}: Exiting\")\n",
    "    return name\n",
    "\n",
    "\n",
    "def main():\n",
    "    names = [f\"Process-{i}\" for i in range(5)]\n",
    "    with ProcessPoolExecutor(max_workers=5) as executor:\n",
    "        results = executor.map(worker, names)\n",
    "\n",
    "    for result in results:\n",
    "        print(\"Result:\", result)\n",
    "\n",
    "\n",
    "if __name__ == \"__main__\":\n",
    "    main()"
   ]
  }
 ],
 "metadata": {
  "language_info": {
   "name": "python"
  }
 },
 "nbformat": 4,
 "nbformat_minor": 2
}
