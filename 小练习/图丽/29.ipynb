{
 "cells": [
  {
   "cell_type": "markdown",
   "metadata": {},
   "source": [
    "# 东明凌8和灵岩南路相机画面解析"
   ]
  },
  {
   "cell_type": "markdown",
   "metadata": {},
   "source": [
    "## 1. 解析excel"
   ]
  },
  {
   "cell_type": "code",
   "execution_count": null,
   "metadata": {},
   "outputs": [],
   "source": [
    "import os\n",
    "import cv2\n",
    "import pandas as pd\n",
    "\n",
    "excel_path = \"./data/摄像头信息表.xlsx\"\n",
    "output_dir = \"./results\"\n",
    "excel_data = pd.read_excel(excel_path)\n",
    "device_name = excel_data[\"设备名称\\n（红色为必填项）\"]\n",
    "area_name = excel_data[\"所属小区\"]\n",
    "rtmp_id = excel_data[\"rtmp码流地址（摄像头必填）\"]\n",
    "\n",
    "if not os.path.exists(output_dir):\n",
    "    os.makedirs(output_dir, exist_ok=True)\n",
    "url_base = \"rtsp://10.224.15.33:554/rtp/31011500002000200001_\"\n",
    "for index, id in enumerate(rtmp_id):\n",
    "    rtsp_url = url_base + id\n",
    "    cap = cv2.VideoCapture(rtsp_url)\n",
    "    if not cap.isOpened():\n",
    "        print(f\"无法打开RTSP流 - {rtsp_url}\")\n",
    "    else:\n",
    "        ret, frame = cap.read()\n",
    "        if ret:\n",
    "            image_name = area_name[index] + device_name[index].replace(\"-\", \"_\")\n",
    "            image_path = os.path.join(output_dir, f\"{image_name}.jpg\")\n",
    "            cv2.imwrite(image_path, frame)\n",
    "            print(f\"截图已保存为 - {image_path}\")\n",
    "        else:\n",
    "            print(f\"RTSP流无法读取数据帧帧 - {rtsp_url}\")\n",
    "    cap.release()"
   ]
  }
 ],
 "metadata": {
  "kernelspec": {
   "display_name": "tensor",
   "language": "python",
   "name": "python3"
  },
  "language_info": {
   "codemirror_mode": {
    "name": "ipython",
    "version": 3
   },
   "file_extension": ".py",
   "mimetype": "text/x-python",
   "name": "python",
   "nbconvert_exporter": "python",
   "pygments_lexer": "ipython3",
   "version": "3.10.13"
  }
 },
 "nbformat": 4,
 "nbformat_minor": 2
}
