{
 "cells": [
  {
   "cell_type": "code",
   "execution_count": 30,
   "metadata": {},
   "outputs": [],
   "source": [
    "import re\n",
    "import time\n",
    "import requests"
   ]
  },
  {
   "cell_type": "code",
   "execution_count": 10,
   "metadata": {},
   "outputs": [],
   "source": [
    "def get_uploader_videos(mid):\n",
    "    url = 'https://api.bilibili.com/x/space/arc/search'\n",
    "    params = {\n",
    "        'mid': mid,\n",
    "        'ps': 50,  # 每页返回的视频数量增加到50\n",
    "        'tid': 0,  # 视频分类ID，0表示不限制分类\n",
    "        'pn': 1,  # 起始页码\n",
    "        'keyword': '',  # 关键字搜索，留空表示不限制关键字\n",
    "        'order': 'pubdate',  # 结果排序方式，这里按照发布时间排序\n",
    "        'jsonp': 'jsonp'  # 返回数据格式为JSONP\n",
    "    }\n",
    "    headers = {\n",
    "        'User-Agent':\n",
    "        'Mozilla/5.0 (Windows NT 10.0; Win64; x64) AppleWebKit/537.36 (KHTML, like Gecko) Chrome/88.0.4324.182 Safari/537.36'\n",
    "    }\n",
    "    video_list = []\n",
    "    times = 1\n",
    "    page = 1\n",
    "    \n",
    "    while True:\n",
    "        params['pn'] = page\n",
    "        response = requests.get(url, params=params, headers=headers)\n",
    "        data = response.json()\n",
    "        if data['code'] == 0:\n",
    "            vlist = data['data']['list']['vlist']\n",
    "            if len(vlist) == 0:\n",
    "                break\n",
    "            video_list.extend(vlist)\n",
    "            page += 1\n",
    "        else:\n",
    "            times += 1\n",
    "            print(f'Failed to retrieve videos. Error: {data[\"message\"]}')\n",
    "        # 在每次请求之前添加0.5秒的延迟\n",
    "        time.sleep(0.5)\n",
    "        if times > 25:\n",
    "            break\n",
    "    \n",
    "    for video in video_list:\n",
    "        title = video['title']\n",
    "        aid = video['aid']\n",
    "        video_link = f'https://www.bilibili.com/video/av{aid}'\n",
    "        print(f'Title: {title} | Video Link: {video_link}')"
   ]
  },
  {
   "cell_type": "code",
   "execution_count": null,
   "metadata": {},
   "outputs": [],
   "source": [
    "up_id = \"479505501\"\n",
    "get_uploader_videos(up_id)"
   ]
  },
  {
   "cell_type": "code",
   "execution_count": null,
   "metadata": {},
   "outputs": [],
   "source": [
    "video_info_list = []\n",
    "with open(\"/Users/WangHao/Sites/学习/Python/Script/小练习/图丽/assets/视频信息列表.txt\",\n",
    "          \"r\") as text_file:\n",
    "    for line in text_file:\n",
    "        video_info_list.append(line.strip())\n",
    "\n",
    "select_video_info_list = []\n",
    "keywords_place = ['青', '新', '藏']\n",
    "keywords_other = ['车', '公路', '国道']\n",
    "for idx, video_info in enumerate(video_info_list):\n",
    "    if any([i in video_info for i in keywords_place]) and any(\n",
    "        [i in video_info for i in keywords_other]):\n",
    "        select_video_info_list.append(video_info)\n",
    "\n",
    "for video_info in select_video_info_list:\n",
    "    pattern = r'(https://www\\.bilibili\\.com/video/av\\d+)'\n",
    "    match = re.search(pattern, video_info)\n",
    "    if match:\n",
    "        video_link = match.group(1)\n",
    "        print(video_link)\n",
    "    else:\n",
    "        print(\"Video link not found.\")"
   ]
  }
 ],
 "metadata": {
  "kernelspec": {
   "display_name": "tensor",
   "language": "python",
   "name": "python3"
  },
  "language_info": {
   "codemirror_mode": {
    "name": "ipython",
    "version": 3
   },
   "file_extension": ".py",
   "mimetype": "text/x-python",
   "name": "python",
   "nbconvert_exporter": "python",
   "pygments_lexer": "ipython3",
   "version": "3.8.16"
  },
  "orig_nbformat": 4
 },
 "nbformat": 4,
 "nbformat_minor": 2
}
