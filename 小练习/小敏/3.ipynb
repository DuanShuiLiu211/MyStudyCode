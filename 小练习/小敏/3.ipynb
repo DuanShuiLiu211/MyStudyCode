{
 "cells": [
  {
   "cell_type": "markdown",
   "metadata": {},
   "source": [
    "求解表达式 $\\sqrt{a^2 + 1} + \\sqrt{b^2 + 4} + \\sqrt{c^2 + 9}$ 的最小值，利用已知条件 $a + b + c = 8$ 来建立约束条件。\n",
    "\n",
    "首先，将 $a + b + c = 8$ 写成 $a = 8 - b - c$，然后将其代入给定的表达式中，得到：\n",
    "\n",
    "$$\n",
    "\\sqrt{(8 - b - c)^2 + 1} + \\sqrt{b^2 + 4} + \\sqrt{c^2 + 9}\n",
    "$$\n",
    "\n",
    "然后要最小化这个表达式。使用拉格朗日乘数法。首先定义一个拉格朗日函数：\n",
    "\n",
    "$$\n",
    "L(a, b, c, \\lambda) = \\sqrt{(8 - b - c)^2 + 1} + \\sqrt{b^2 + 4} + \\sqrt{c^2 + 9} + \\lambda(a + b + c - 8)\n",
    "$$\n",
    "\n",
    "其中，$\\lambda$ 是拉格朗日乘数。对 $L$ 关于 $a, b, c$ 和 $\\lambda$ 求偏导数，并令它们等于零，以找到极值点，得到最小值。\n",
    "\n",
    "$$\n",
    "\\frac{\\partial L}{\\partial a} = 0 \\\\\n",
    "\\frac{\\partial L}{\\partial b} = 0 \\\\\n",
    "\\frac{\\partial L}{\\partial c} = 0 \\\\\n",
    "\\frac{\\partial L}{\\partial \\lambda} = 0\n",
    "$$\n",
    "\n",
    "解这组方程，找到 $a, b, c$ 和 $\\lambda$ 的值，然后将它们代入原始的表达式中求解。"
   ]
  },
  {
   "cell_type": "code",
   "execution_count": 5,
   "metadata": {},
   "outputs": [
    {
     "name": "stdout",
     "output_type": "stream",
     "text": [
      "最小值: 10.000000000307155\n",
      "取得最小值时的变量值: [1.33328665 2.66670191 4.00001144]\n"
     ]
    }
   ],
   "source": [
    "from scipy.optimize import minimize\n",
    "import numpy as np\n",
    "\n",
    "def objective(x):\n",
    "    a, b, c = x\n",
    "    return np.sqrt((8 - b - c)**2 + 1) + np.sqrt(b**2 + 4) + np.sqrt(c**2 + 9)\n",
    "\n",
    "def constraint(x):\n",
    "    return x[0] + x[1] + x[2] - 8\n",
    "\n",
    "initial_guess = [2, 2, 4]  # 初始猜测值\n",
    "bounds = ((0, 8), (0, 8), (0, 8))  # 变量的取值范围\n",
    "\n",
    "result = minimize(objective, initial_guess, constraints={'type': 'eq', 'fun': constraint}, bounds=bounds)\n",
    "\n",
    "print(\"最小值:\", result.fun)\n",
    "print(\"取得最小值时的变量值:\", result.x)"
   ]
  }
 ],
 "metadata": {
  "kernelspec": {
   "display_name": "tensor",
   "language": "python",
   "name": "python3"
  },
  "language_info": {
   "codemirror_mode": {
    "name": "ipython",
    "version": 3
   },
   "file_extension": ".py",
   "mimetype": "text/x-python",
   "name": "python",
   "nbconvert_exporter": "python",
   "pygments_lexer": "ipython3",
   "version": "3.10.13"
  }
 },
 "nbformat": 4,
 "nbformat_minor": 2
}
