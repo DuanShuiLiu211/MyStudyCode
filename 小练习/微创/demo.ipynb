{
 "cells": [
  {
   "cell_type": "code",
   "execution_count": null,
   "metadata": {},
   "outputs": [],
   "source": [
    "import os\n",
    "import SimpleITK as sitk\n",
    "import numpy as np"
   ]
  },
  {
   "cell_type": "code",
   "execution_count": null,
   "metadata": {},
   "outputs": [],
   "source": [
    "def volume_bounding_box(data, gt, expend=20):\n",
    "    print(data.shape)\n",
    "    mask = (gt != 0)\n",
    "    brain_voxels = np.where(mask != 0)\n",
    "    z, x, y = data.shape\n",
    "\n",
    "    minZidx = int(np.min(brain_voxels[0]))\n",
    "    maxZidx = int(np.max(brain_voxels[0]))\n",
    "    minXidx = int(np.min(brain_voxels[1]))\n",
    "    maxXidx = int(np.max(brain_voxels[1]))\n",
    "    minYidx = int(np.min(brain_voxels[2]))\n",
    "    maxYidx = int(np.max(brain_voxels[2]))\n",
    "\n",
    "    minZidx_jitterd = max(minZidx - expend, 0)\n",
    "    maxZidx_jitterd = min(maxZidx + expend, z) + 1\n",
    "    minXidx_jitterd = max(minXidx - expend, 0)\n",
    "    maxXidx_jitterd = min(maxXidx + expend, x) + 1\n",
    "    minYidx_jitterd = max(minYidx - expend, 0)\n",
    "    maxYidx_jitterd = min(maxYidx + expend, y) + 1\n",
    "\n",
    "    data_bboxed = data[minZidx_jitterd:maxZidx_jitterd,\n",
    "                       minXidx_jitterd:maxXidx_jitterd,\n",
    "                       minYidx_jitterd:maxYidx_jitterd]\n",
    "\n",
    "    gt_bboxed = gt[minZidx_jitterd:maxZidx_jitterd,\n",
    "                   minXidx_jitterd:maxXidx_jitterd,\n",
    "                   minYidx_jitterd:maxYidx_jitterd]\n",
    "\n",
    "    print([minZidx, maxZidx, minXidx, maxXidx, minYidx, maxYidx])\n",
    "    print([\n",
    "        minZidx_jitterd, maxZidx_jitterd, minXidx_jitterd, maxXidx_jitterd,\n",
    "        minYidx_jitterd, maxYidx_jitterd\n",
    "    ])\n",
    "\n",
    "    return data_bboxed, gt_bboxed\n",
    "\n",
    "\n",
    "if __name__ == '__main__':\n",
    "    # 动态nii文件根据label获取roi\n",
    "\n",
    "    # root_dir = r'C:\\Users\\chenjy4\\Desktop\\dongtai\\videodatanii\\label_smooth_by_polarozation1.1'\n",
    "    # root_dir = r'C:\\Users\\chenjy4\\Desktop\\duibi\\nii_pred'\n",
    "    root_dir = r'C:\\Users\\chenjy4\\Desktop\\niipred'\n",
    "\n",
    "    files = os.listdir(os.path.join(root_dir, 'image'))\n",
    "\n",
    "    for file in files:\n",
    "        image = sitk.GetArrayFromImage(\n",
    "            sitk.ReadImage(os.path.join(root_dir, 'image', file)))\n",
    "        label = sitk.GetArrayFromImage(\n",
    "            sitk.ReadImage(os.path.join(root_dir, 'label', file)))\n",
    "\n",
    "        image_roi, label_roi = volume_bounding_box(image, label, 0)\n",
    "\n",
    "        if not os.path.exists(os.path.join(root_dir, 'image_roi')):\n",
    "            os.makedirs(os.path.join(root_dir, 'image_roi'))\n",
    "        if not os.path.exists(os.path.join(root_dir, 'label_roi')):\n",
    "            os.makedirs(os.path.join(root_dir, 'label_roi'))\n",
    "\n",
    "        sitk.WriteImage(sitk.GetImageFromArray(image_roi),\n",
    "                        os.path.join(root_dir, 'image_roi', file))\n",
    "        sitk.WriteImage(sitk.GetImageFromArray(label_roi),\n",
    "                        os.path.join(root_dir, 'label_roi', file))\n"
   ]
  }
 ],
 "metadata": {
  "kernelspec": {
   "display_name": "Python 3.9.12 ('tensor')",
   "language": "python",
   "name": "python3"
  },
  "language_info": {
   "name": "python",
   "version": "3.8.16"
  },
  "orig_nbformat": 4,
  "vscode": {
   "interpreter": {
    "hash": "f7567524e79b96d316162151a38259d28be4bc298929f85b9103bf7fbca02c0d"
   }
  }
 },
 "nbformat": 4,
 "nbformat_minor": 2
}
