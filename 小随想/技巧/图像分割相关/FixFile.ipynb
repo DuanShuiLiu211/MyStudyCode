{
 "cells": [
  {
   "cell_type": "markdown",
   "metadata": {
    "collapsed": false,
    "pycharm": {
     "name": "#%% md\n"
    }
   },
   "source": [
    "## 按格式删除文件"
   ]
  },
  {
   "cell_type": "code",
   "execution_count": null,
   "metadata": {
    "collapsed": false,
    "pycharm": {
     "name": "#%%\n"
    }
   },
   "outputs": [],
   "source": [
    "import os\n",
    "from glob import glob\n",
    "\n",
    "# 读取路径\n",
    "image_sequence_path = \"/Users/WangHao/工作/实习相关/微创卜算子医疗科技有限公司/陈嘉懿组/数据/佳文数据_0722/短轴视频_0722\"\n",
    "image_sequence_list = os.listdir(image_sequence_path)\n",
    "image_sequence_list = sorted(image_sequence_list)\n",
    "\n",
    "for path_name in image_sequence_list:\n",
    "    # 读取文件\n",
    "    ext = \"npy\"\n",
    "    file_list = glob(f\"{os.path.join(image_sequence_path, path_name)}/*.{ext}\")\n",
    "    try:\n",
    "        for file in file_list:\n",
    "            os.remove(file)\n",
    "    except:\n",
    "        print(f\"{path_name}中不存在{ext}类型文件\")\n",
    "\n",
    "print(\"运行结束\")"
   ]
  },
  {
   "cell_type": "markdown",
   "metadata": {},
   "source": [
    "## 按需删除文件信息\n",
    "1. 02220820210305_XJ_20210305082931543.nii.gz -> 去除0-5共6帧\n",
    "2. 202204020917510011VAS.nii.gz -> 去除0-28共29帧\n",
    "3. IM_0044.nii.gz -> 去除73-136共64帧 "
   ]
  },
  {
   "cell_type": "code",
   "execution_count": 1,
   "metadata": {},
   "outputs": [
    {
     "name": "stdout",
     "output_type": "stream",
     "text": [
      "(72, 203, 195)\n",
      "(111, 191, 223)\n",
      "(73, 136, 287)\n",
      "(73, 136, 287)\n",
      "(111, 191, 223)\n",
      "(72, 203, 195)\n",
      "(111, 128, 128)\n",
      "(72, 128, 128)\n",
      "(73, 128, 128)\n",
      "(72, 128, 128)\n",
      "(111, 128, 128)\n",
      "(73, 128, 128)\n",
      "运行结束\n"
     ]
    }
   ],
   "source": [
    "import os\n",
    "from glob import glob\n",
    "import SimpleITK as sitk\n",
    "\n",
    "# 读取路径\n",
    "data_sequence_path = \"/Volumes/昊大侠/工作/实习相关/微创卜算子医疗科技有限公司/陈嘉懿组/数据/短轴动态狭窄率/result/狭窄率图表_0920/测试集去除分叉帧数据及结果\"\n",
    "data_sequence_list = os.listdir(data_sequence_path)\n",
    "data_sequence_list = sorted(data_sequence_list)\n",
    "\n",
    "for folder_name in data_sequence_list:\n",
    "    # 读取文件\n",
    "    ext = \"nii.gz\"\n",
    "    file_list = glob(f\"{os.path.join(data_sequence_path, folder_name)}/*.{ext}\")\n",
    "    try:\n",
    "        for file in file_list:\n",
    "            if file == os.path.join(\n",
    "                data_sequence_path,\n",
    "                folder_name,\n",
    "                \"02220820210305_XJ_20210305082931543.nii.gz\",\n",
    "            ):\n",
    "                data = sitk.GetArrayFromImage(sitk.ReadImage(file))\n",
    "                data = data[6:]\n",
    "                print(data.shape)\n",
    "                outputs = sitk.GetImageFromArray(data)\n",
    "                sitk.WriteImage(outputs, file)\n",
    "            elif file == os.path.join(\n",
    "                data_sequence_path, folder_name, \"202204020917510011VAS.nii.gz\"\n",
    "            ):\n",
    "                data = sitk.GetArrayFromImage(sitk.ReadImage(file))\n",
    "                data = data[29:]\n",
    "                print(data.shape)\n",
    "                outputs = sitk.GetImageFromArray(data)\n",
    "                sitk.WriteImage(outputs, file)\n",
    "            elif file == os.path.join(\n",
    "                data_sequence_path, folder_name, \"IM_0044.nii.gz\"\n",
    "            ):\n",
    "                data = sitk.GetArrayFromImage(sitk.ReadImage(file))\n",
    "                data = data[:73]\n",
    "                print(data.shape)\n",
    "                outputs = sitk.GetImageFromArray(data)\n",
    "                sitk.WriteImage(outputs, file)\n",
    "            else:\n",
    "                pass\n",
    "    except:\n",
    "        print(f\"{file}删除出错\")\n",
    "\n",
    "print(\"运行结束\")"
   ]
  },
  {
   "cell_type": "markdown",
   "metadata": {},
   "source": [
    "## 按标签删除文件"
   ]
  },
  {
   "cell_type": "code",
   "execution_count": 2,
   "metadata": {},
   "outputs": [
    {
     "name": "stdout",
     "output_type": "stream",
     "text": [
      "运行结束\n"
     ]
    }
   ],
   "source": [
    "import os\n",
    "\n",
    "# 读取路径\n",
    "label_sequence_path = \"/Volumes/昊大侠/工作/实习相关/微创卜算子医疗科技有限公司/陈嘉懿组/数据/短轴动态狭窄率/dataset/0910/label_roi第一次平滑\"\n",
    "label_sequence_list = os.listdir(label_sequence_path)\n",
    "label_sequence_list = sorted(label_sequence_list)\n",
    "\n",
    "image_sequence_path = \"/Volumes/昊大侠/工作/实习相关/微创卜算子医疗科技有限公司/陈嘉懿组/数据/短轴动态狭窄率/dataset/0910/image_roi第一次平滑\"\n",
    "image_sequence_list = os.listdir(image_sequence_path)\n",
    "image_sequence_list = sorted(image_sequence_list)\n",
    "\n",
    "for label_name in label_sequence_list:\n",
    "    try:\n",
    "        if label_name not in image_sequence_list:\n",
    "            # 移除文件\n",
    "            label_file_name = os.path.join(label_sequence_path, label_name)\n",
    "            os.remove(label_file_name)\n",
    "    except:\n",
    "        print(f\"文件{label_file_name}不存在\")\n",
    "\n",
    "print(\"运行结束\")"
   ]
  },
  {
   "cell_type": "markdown",
   "metadata": {
    "collapsed": false,
    "pycharm": {
     "name": "#%% md\n"
    }
   },
   "source": [
    "## 修改像道数据"
   ]
  },
  {
   "cell_type": "code",
   "execution_count": null,
   "metadata": {
    "pycharm": {
     "name": "#%%\n"
    }
   },
   "outputs": [],
   "source": [
    "import cv2\n",
    "import numpy as np\n",
    "\n",
    "\n",
    "filePath = \"/Volumes/昊大侠/工作/实习相关/微创卜算子医疗科技有限公司/陈嘉懿组/数据/短轴动态狭窄率/dataset_0802/label/06570820220302_CA MASHAOYONG_20220302091109144\"\n",
    "if not os.path.exists(filePath.replace(\"dataset_0706\", \"dataset_0706_nb\")):\n",
    "    os.mkdir(filePath.replace(\"dataset_0706\", \"dataset_0706_nb\"))\n",
    "\n",
    "for root, dirs, files in os.walk(filePath):\n",
    "    for i in files:\n",
    "        if \"label\" in i:\n",
    "            label = cv2.imdecode(np.fromfile(f\"{root}/{i}\", dtype=np.uint8), -1)\n",
    "            label[..., 0] = 0\n",
    "            image = cv2.imread(root + \"/\" + i.replace(\"label\", \"image\"))\n",
    "\n",
    "            if not os.path.exists(root.replace(\"dataset_0706\", \"dataset_0706_nb\")):\n",
    "                os.mkdir(root.replace(\"dataset_0706\", \"dataset_0706_nb\"))\n",
    "\n",
    "            cv2.imencode(\".png\", label)[-1].tofile(\n",
    "                root.replace(\"dataset_0706\", \"dataset_0706_nb\") + \"/\" + i\n",
    "            )\n",
    "            cv2.imencode(\".png\", image)[-1].tofile(\n",
    "                root.replace(\"dataset_0706\", \"dataset_0706_nb\")\n",
    "                + \"/\"\n",
    "                + i.replace(\"label\", \"image\")\n",
    "            )\n",
    "\n",
    "print(\"运行结束\")"
   ]
  },
  {
   "cell_type": "markdown",
   "metadata": {
    "collapsed": false,
    "pycharm": {
     "name": "#%% md\n"
    }
   },
   "source": [
    "# 去除小连通"
   ]
  },
  {
   "cell_type": "code",
   "execution_count": null,
   "metadata": {
    "collapsed": false,
    "pycharm": {
     "name": "#%%\n"
    }
   },
   "outputs": [],
   "source": [
    "import cv2\n",
    "import numpy as np\n",
    "from skimage import morphology\n",
    "\n",
    "\n",
    "def remove_isolate(inputs, threshold_area=0.5):\n",
    "    \"\"\"\n",
    "    inputs: x*y*3\n",
    "    \"\"\"\n",
    "    mask = np.zeros((inputs.shape[0], inputs.shape[1]), dtype=np.uint8)\n",
    "    mask[np.sum(inputs, axis=-1) > 0] = 1\n",
    "    mask = morphology.remove_small_objects(\n",
    "        mask.astype(np.bool8), np.sum(mask) * threshold_area, connectivity=8\n",
    "    ).astype(np.uint8)\n",
    "    outputs = np.expand_dims(mask, -1) * inputs\n",
    "\n",
    "    return outputs\n",
    "\n",
    "\n",
    "filePath = \"/Volumes/昊大侠/工作/实习相关/微创卜算子医疗科技有限公司/陈嘉懿组/数据/短轴动态狭窄率/dataset/label\"\n",
    "\n",
    "for root, dirs, files in os.walk(filePath):\n",
    "    for file_name in files:\n",
    "        ext = \".png\"\n",
    "        if ext in file_name and \"._\" not in file_name:\n",
    "            label = cv2.imdecode(np.fromfile(f\"{root}/{file_name}\", dtype=np.uint8), -1)\n",
    "            label = remove_isolate(label)\n",
    "            cv2.imencode(\".png\", label)[-1].tofile(f\"{root}/{file_name}\")\n",
    "\n",
    "print(\"运行结束\")"
   ]
  },
  {
   "cell_type": "markdown",
   "metadata": {
    "collapsed": false,
    "pycharm": {
     "name": "#%% md\n"
    }
   },
   "source": [
    "# 生成重叠图"
   ]
  },
  {
   "cell_type": "code",
   "execution_count": null,
   "metadata": {
    "collapsed": false,
    "pycharm": {
     "name": "#%%\n"
    }
   },
   "outputs": [],
   "source": [
    "import os\n",
    "import cv2\n",
    "\n",
    "path = r\"/Users/WangHao/Downloads/ToData\"\n",
    "save_path = \"\"\n",
    "\n",
    "# 通过DFS实现统一逻辑处理同一层次的文件对象\n",
    "for root, dirs, files in os.walk(path):\n",
    "    if not dirs:\n",
    "        keywords = [\"label\", \"label_roi\"]\n",
    "        dir_name = root.split(\"/\")[-1]\n",
    "        keys = [key for key in keywords if key == dir_name]\n",
    "\n",
    "        if keys == [\"label\"]:\n",
    "            save_visual_path = root.replace(\"label\", \"visual\")\n",
    "            if not os.path.exists(save_visual_path):\n",
    "                os.makedirs(save_visual_path)\n",
    "            ext = \".png\"\n",
    "            for file_name in files:\n",
    "                if ext in file_name and \"._\" not in file_name:\n",
    "                    label = cv2.imread(os.path.join(root, file_name))\n",
    "                    image = cv2.imread(\n",
    "                        os.path.join(root, file_name).replace(\"label\", \"image\")\n",
    "                    )\n",
    "                    visual = cv2.addWeighted(image, 0.8, label, 0.2, 0)\n",
    "                    cv2.imwrite(os.path.join(save_visual_path, file_name), visual)\n",
    "\n",
    "        if keys == [\"label_roi\"]:\n",
    "            save_visual_roi_path = root.replace(\"label_roi\", \"visual_roi\")\n",
    "            if not os.path.exists(save_visual_roi_path):\n",
    "                os.makedirs(save_visual_roi_path)\n",
    "            ext = \".png\"\n",
    "            for file_name in files:\n",
    "                if ext in file_name and \"._\" not in file_name:\n",
    "                    label_roi = cv2.imread(os.path.join(root, file_name))\n",
    "                    image_roi = cv2.imread(\n",
    "                        os.path.join(root, file_name).replace(\"label_roi\", \"image_roi\")\n",
    "                    )\n",
    "                    visual_roi = cv2.addWeighted(image_roi, 0.8, label_roi, 0.2, 0)\n",
    "                    cv2.imwrite(\n",
    "                        os.path.join(save_visual_roi_path, file_name), visual_roi\n",
    "                    )\n",
    "\n",
    "print(\"运行结束\")"
   ]
  },
  {
   "cell_type": "markdown",
   "metadata": {
    "collapsed": false,
    "pycharm": {
     "name": "#%% md\n"
    }
   },
   "source": [
    "## 文件拷贝移动"
   ]
  },
  {
   "cell_type": "code",
   "execution_count": null,
   "metadata": {
    "collapsed": false,
    "pycharm": {
     "name": "#%%\n"
    }
   },
   "outputs": [],
   "source": [
    "import os\n",
    "import shutil\n",
    "\n",
    "path = r\"/Volumes/昊大侠/工作/实习相关/微创卜算子医疗科技有限公司/陈嘉懿组/数据/短轴动态狭窄率/动态返修3\"\n",
    "save_path = \"/Volumes/昊大侠/工作/实习相关/微创卜算子医疗科技有限公司/陈嘉懿组/数据/短轴动态狭窄率/动态返修3\"\n",
    "\n",
    "# 通过DFS实现统一逻辑处理同一层次的文件对象\n",
    "for root, dirs, files in os.walk(path):\n",
    "    if not dirs:\n",
    "        keywords = [\"visual\", \"label\", \"roi\"]\n",
    "        dir_name = root.split(\"/\")[-1]\n",
    "        keys = [key for key in keywords if key in dir_name]\n",
    "        if not keys:\n",
    "            save_image_path = os.path.join(save_path, \"image\", root.split(\"/\")[-2])\n",
    "            if not os.path.exists(save_image_path):\n",
    "                os.makedirs(save_image_path)\n",
    "            ext = \".png\"\n",
    "            for file_name in files:\n",
    "                if ext in file_name:\n",
    "                    shutil.copy(os.path.join(root, file_name), save_image_path)\n",
    "\n",
    "        if keys == [\"label\"]:\n",
    "            save_label_path = os.path.join(save_path, \"label\", root.split(\"/\")[-2])\n",
    "            if not os.path.exists(save_label_path):\n",
    "                os.makedirs(save_label_path)\n",
    "            ext = \".png\"\n",
    "            for file_name in files:\n",
    "                if ext in file_name:\n",
    "                    shutil.copy(os.path.join(root, file_name), save_label_path)\n",
    "\n",
    "print(\"运行结束\")"
   ]
  },
  {
   "cell_type": "markdown",
   "metadata": {
    "collapsed": false,
    "pycharm": {
     "name": "#%% md\n"
    }
   },
   "source": [
    "# 文件夹拷贝"
   ]
  },
  {
   "cell_type": "code",
   "execution_count": 13,
   "metadata": {
    "collapsed": false,
    "pycharm": {
     "name": "#%%\n"
    }
   },
   "outputs": [
    {
     "name": "stdout",
     "output_type": "stream",
     "text": [
      "运行结束\n"
     ]
    }
   ],
   "source": [
    "import os\n",
    "import shutil\n",
    "\n",
    "path_roi_label = \"/Volumes/昊大侠/工作/实习相关/微创卜算子医疗科技有限公司/陈嘉懿组/数据/短轴动态狭窄率/dataset/dataset_roi/label\"\n",
    "path_roi_image = \"/Volumes/昊大侠/工作/实习相关/微创卜算子医疗科技有限公司/陈嘉懿组/数据/短轴动态狭窄率/dataset/dataset_roi/image\"\n",
    "path_label = \"/Volumes/昊大侠/工作/实习相关/微创卜算子医疗科技有限公司/陈嘉懿组/数据/短轴动态狭窄率/dataset/label\"\n",
    "path_image = \"/Volumes/昊大侠/工作/实习相关/微创卜算子医疗科技有限公司/陈嘉懿组/数据/短轴动态狭窄率/dataset/image\"\n",
    "\n",
    "save_dir = \"/Volumes/昊大侠/工作/实习相关/微创卜算子医疗科技有限公司/陈嘉懿组/数据/短轴动态狭窄率/dataset_usable_0815\"\n",
    "if not os.path.exists(save_dir):\n",
    "    os.mkdir(save_dir)\n",
    "\n",
    "keys_list = os.listdir(path_roi_label)\n",
    "\n",
    "for dirs in os.listdir(path_label):\n",
    "    if dirs not in keys_list:\n",
    "        save_path = os.path.join(save_dir, dirs)\n",
    "        # shutil.copytree(os.path.join(path_roi_label, dirs), os.path.join(save_path, \"label_roi\"))\n",
    "        # shutil.copytree(os.path.join(path_roi_image, dirs).replace(\"label\", \"image\"), os.path.join(save_path, \"image_roi\"))\n",
    "        shutil.copytree(\n",
    "            os.path.join(path_label, dirs), os.path.join(save_path, \"label\")\n",
    "        )\n",
    "        shutil.copytree(\n",
    "            os.path.join(path_image, dirs).replace(\"label\", \"image\"),\n",
    "            os.path.join(save_path, \"image\"),\n",
    "        )\n",
    "\n",
    "print(\"运行结束\")"
   ]
  },
  {
   "cell_type": "markdown",
   "metadata": {
    "collapsed": false,
    "pycharm": {
     "name": "#%% md\n"
    }
   },
   "source": [
    "## *Get ROI data pair*"
   ]
  },
  {
   "cell_type": "code",
   "execution_count": null,
   "metadata": {
    "pycharm": {
     "name": "#%%\n"
    }
   },
   "outputs": [],
   "source": [
    "import numpy as np\n",
    "import os\n",
    "import cv2\n",
    "from skimage import morphology\n",
    "\n",
    "\n",
    "def file_remove(file_list):\n",
    "    try:\n",
    "        file_list.remove(\".DS_Store\")\n",
    "    except ValueError:\n",
    "        pass\n",
    "    try:\n",
    "        file_list.remove(\"._.DS_Store\")\n",
    "    except ValueError:\n",
    "        pass\n",
    "\n",
    "\n",
    "def remove_isolate(inputs, threshold_area=0.5):\n",
    "    \"\"\"\n",
    "    inputs: x*y*3\n",
    "    \"\"\"\n",
    "    mask = np.zeros((inputs.shape[0], inputs.shape[1]), dtype=np.uint8)\n",
    "    mask[np.sum(inputs, axis=-1) > 0] = 1\n",
    "    mask = morphology.remove_small_objects(\n",
    "        mask.astype(np.bool8), np.sum(mask) * threshold_area, connectivity=8\n",
    "    ).astype(np.uint8)\n",
    "    outputs = np.expand_dims(mask, -1) * inputs\n",
    "\n",
    "    return outputs\n",
    "\n",
    "\n",
    "def crop_array(image, label, up, down, left, right):\n",
    "    \"\"\"\n",
    "    image:x*y*3 uint8\n",
    "    label:x*y*3 uint8\n",
    "    \"\"\"\n",
    "\n",
    "    crop_image = image[up:down, left:right, :]\n",
    "    crop_label = label[up:down, left:right, :]\n",
    "\n",
    "    return crop_image, crop_label\n",
    "\n",
    "\n",
    "def count_list_place(base_path, files):\n",
    "    place = []\n",
    "    file_dir = f\"{base_path}/{files}\"\n",
    "    path_4 = os.listdir(file_dir)\n",
    "    file_remove(path_4)\n",
    "    for file_name in path_4:\n",
    "        if \"._\" not in file_name:\n",
    "            data = cv2.imdecode(\n",
    "                np.fromfile(f\"{file_dir}/{file_name}\", dtype=np.uint8), -1\n",
    "            )\n",
    "\n",
    "            data = remove_isolate(data)\n",
    "            data_gray = cv2.cvtColor(data, cv2.COLOR_RGB2GRAY)\n",
    "\n",
    "            y_sum = np.sum(data_gray, axis=1)\n",
    "            x_sum = np.sum(data_gray, axis=0)\n",
    "\n",
    "            up = (\n",
    "                min(np.where(y_sum != 0)[0]) - 20\n",
    "                if min(np.where(y_sum != 0)[0]) > 20\n",
    "                else 0\n",
    "            )\n",
    "            down = (\n",
    "                max(np.where(y_sum != 0)[0]) + 20\n",
    "                if max(np.where(y_sum != 0)[0]) < data.shape[0] - 20\n",
    "                else data.shape[0]\n",
    "            )\n",
    "            left = (\n",
    "                min(np.where(x_sum != 0)[0]) - 20\n",
    "                if min(np.where(x_sum != 0)[0]) > 20\n",
    "                else 0\n",
    "            )\n",
    "            right = (\n",
    "                max(np.where(x_sum != 0)[0]) + 20\n",
    "                if min(np.where(x_sum != 0)[0]) < data.shape[1] - 20\n",
    "                else data.shape[1]\n",
    "            )\n",
    "\n",
    "        place.append([up, down, left, right])\n",
    "\n",
    "    place = np.array(place)\n",
    "    place_min = np.min(place, axis=0)\n",
    "    place_max = np.max(place, axis=0)\n",
    "    up, down, left, right = place_min[0], place_max[1], place_min[2], place_max[3]\n",
    "    assert (down < data.shape[0]) and (right < data.shape[1])\n",
    "\n",
    "    return up, down, left, right\n",
    "\n",
    "\n",
    "def count_place(data, path):\n",
    "    data_gray = cv2.cvtColor(data, cv2.COLOR_RGB2GRAY)\n",
    "\n",
    "    y_sum = np.sum(data_gray, axis=1)\n",
    "    x_sum = np.sum(data_gray, axis=0)\n",
    "    try:\n",
    "        up = (\n",
    "            min(np.where(y_sum != 0)[0]) - 20\n",
    "            if min(np.where(y_sum != 0)[0]) > 20\n",
    "            else 0\n",
    "        )\n",
    "        down = (\n",
    "            max(np.where(y_sum != 0)[0]) + 20\n",
    "            if max(np.where(y_sum != 0)[0]) < data.shape[0] - 20\n",
    "            else data.shape[0]\n",
    "        )\n",
    "        left = (\n",
    "            min(np.where(x_sum != 0)[0]) - 20\n",
    "            if min(np.where(x_sum != 0)[0]) > 20\n",
    "            else 0\n",
    "        )\n",
    "        right = (\n",
    "            max(np.where(x_sum != 0)[0]) + 20\n",
    "            if min(np.where(x_sum != 0)[0]) < data.shape[1] - 20\n",
    "            else data.shape[1]\n",
    "        )\n",
    "        flag = 0\n",
    "    except ValueError:\n",
    "        flag = 1\n",
    "        print(path)\n",
    "\n",
    "    return up, down, left, right, flag\n",
    "\n",
    "\n",
    "file_path = r\"/Volumes/昊大侠/工作/实习相关/微创卜算子医疗科技有限公司/陈嘉懿组/数据/短轴动态狭窄率/dataset/0816/3\"\n",
    "save_base = r\"/Volumes/昊大侠/工作/实习相关/微创卜算子医疗科技有限公司/陈嘉懿组/数据/短轴动态狭窄率/dataset/0816\"\n",
    "if not os.path.exists(save_base):\n",
    "    os.mkdir(save_base)\n",
    "save_base_label = f\"{save_base}/label\"\n",
    "if not os.path.exists(save_base_label):\n",
    "    os.mkdir(save_base_label)\n",
    "save_base_image = f\"{save_base}/image\"\n",
    "if not os.path.exists(save_base_image):\n",
    "    os.mkdir(save_base_image)\n",
    "\n",
    "for root, dirs, files in os.walk(file_path):\n",
    "    if not dirs:\n",
    "        keywords = [\"label\"]\n",
    "        dir_name = root.split(\"/\")[-2]\n",
    "        keys = [key for key in keywords if key in dir_name]\n",
    "        if keys:\n",
    "            print(f\"process {root}\")\n",
    "            ext = \".png\"\n",
    "            for file_name in files:\n",
    "                if ext in file_name and \"._\" not in file_name:\n",
    "                    file_path_label = os.path.join(root, file_name)\n",
    "                    label = cv2.imdecode(\n",
    "                        np.fromfile(file_path_label, dtype=np.uint8), -1\n",
    "                    )\n",
    "                    label = remove_isolate(label)\n",
    "                    file_path_image = file_path_label.replace(\"label\", \"image\")\n",
    "                    image = cv2.imdecode(\n",
    "                        np.fromfile(file_path_image, dtype=np.uint8), -1\n",
    "                    )\n",
    "\n",
    "                    up, down, left, right, flag = count_place(label, file_path_label)\n",
    "                    if flag:\n",
    "                        break\n",
    "\n",
    "                    crop_image, crop_label = crop_array(\n",
    "                        image, label, up, down, left, right\n",
    "                    )\n",
    "                    save_path_label = os.path.join(save_base_label, root.split(\"/\")[-1])\n",
    "                    if not os.path.exists(save_path_label):\n",
    "                        os.mkdir(save_path_label)\n",
    "                    save_path_image = os.path.join(save_base_image, root.split(\"/\")[-1])\n",
    "                    if not os.path.exists(save_path_image):\n",
    "                        os.mkdir(save_path_image)\n",
    "\n",
    "                    cv2.imencode(\".png\", crop_label)[1].tofile(\n",
    "                        os.path.join(save_path_label, file_name)\n",
    "                    )\n",
    "                    cv2.imencode(\".png\", crop_image)[1].tofile(\n",
    "                        os.path.join(save_path_image, file_name)\n",
    "                    )\n",
    "\n",
    "print(\"运行结束\")"
   ]
  },
  {
   "cell_type": "markdown",
   "metadata": {
    "collapsed": false,
    "pycharm": {
     "name": "#%% md\n"
    }
   },
   "source": [
    "# 寻找重复名称文件"
   ]
  },
  {
   "cell_type": "code",
   "execution_count": 10,
   "metadata": {
    "collapsed": false,
    "pycharm": {
     "name": "#%%\n"
    }
   },
   "outputs": [],
   "source": [
    "data_dir = list(\n",
    "    open(\n",
    "        \"/Volumes/昊大侠/工作/实习相关/微创卜算子医疗科技有限公司/陈嘉懿组/数据/短轴动态狭窄率/王昊数据_0801/已返修/数据名单.txt\",\n",
    "        \"r\",\n",
    "    )\n",
    ")\n",
    "\n",
    "data_dict = {}\n",
    "for path_1 in data_dir:\n",
    "    path_list = []\n",
    "    data_1 = path_1.split(\"/\")[-1]\n",
    "    for path_2 in data_dir:\n",
    "        data_2 = path_2.split(\"/\")[-1]\n",
    "        if data_1 == data_2:\n",
    "            path_list.append(path_2)\n",
    "\n",
    "    data_dict[data_1] = path_list\n",
    "\n",
    "print(data_dict)"
   ]
  }
 ],
 "metadata": {
  "kernelspec": {
   "display_name": "Python 3.9.12 ('tensor')",
   "language": "python",
   "name": "python3"
  },
  "language_info": {
   "codemirror_mode": {
    "name": "ipython",
    "version": 3
   },
   "file_extension": ".py",
   "mimetype": "text/x-python",
   "name": "python",
   "nbconvert_exporter": "python",
   "pygments_lexer": "ipython3",
   "version": "3.9.12"
  },
  "orig_nbformat": 4,
  "vscode": {
   "interpreter": {
    "hash": "f7567524e79b96d316162151a38259d28be4bc298929f85b9103bf7fbca02c0d"
   }
  }
 },
 "nbformat": 4,
 "nbformat_minor": 2
}
