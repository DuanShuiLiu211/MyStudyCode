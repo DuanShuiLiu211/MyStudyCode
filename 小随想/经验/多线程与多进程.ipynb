{
 "cells": [
  {
   "cell_type": "markdown",
   "metadata": {},
   "source": [
    "# 多线程与多进程"
   ]
  },
  {
   "cell_type": "markdown",
   "metadata": {},
   "source": [
    "## Python多进程\n",
    "多进程相当于多核处理，可以把任务平均分配给每一个核，并且让它们同时执行"
   ]
  },
  {
   "cell_type": "code",
   "execution_count": 1,
   "metadata": {},
   "outputs": [],
   "source": [
    "import os\n",
    "import time\n",
    "from multiprocessing import Process, Pool"
   ]
  },
  {
   "cell_type": "markdown",
   "metadata": {},
   "source": [
    "### 2.1、os.fork()\n",
    "- **操作系统将创建具有新进程 ID 的新的子进程，复制父进程的状态（内存、环境变量等）**\n",
    "- **fork 函数调用一次，将返回两次，在父进程中返回值为子进程 id，在子进程中返回值为 0**\n",
    "- **只在类 Unix 系统中有效，Windows 系统中无效**"
   ]
  },
  {
   "cell_type": "code",
   "execution_count": null,
   "metadata": {},
   "outputs": [
    {
     "name": "stdout",
     "output_type": "stream",
     "text": [
      "执行父进程，子进程pid=17021，父进程ppid=16995\n",
      "执行子进程，子进程pid=17021，父进程ppid=16995"
     ]
    },
    {
     "name": "stdout",
     "output_type": "stream",
     "text": [
      "\n"
     ]
    }
   ],
   "source": [
    "pid = os.fork()\n",
    "if pid == 0:\n",
    "    print(\n",
    "        \"执行子进程，子进程pid={pid}，父进程ppid={ppid}\".format(pid=os.getpid(), ppid=os.getppid())\n",
    "    )\n",
    "else:\n",
    "    print(\"执行父进程，子进程pid={pid}，父进程ppid={ppid}\".format(pid=pid, ppid=os.getpid()))"
   ]
  },
  {
   "cell_type": "markdown",
   "metadata": {},
   "source": [
    "### 2.2、multiprocessing \n",
    "**通过 multiprocessing.Process(target=function_handle, name=process_name, args=()) 创建 Process 需要指定在进程中运行的函数对象，可以自定义进程名**\n",
    "\n",
    "- **run() 自定义子类时覆写**\n",
    "- **start() 开启进程**\n",
    "- **join(timeout=None) 阻塞进程等待子进程完成才能结束**\n",
    "- **terminate() 终止进程**\n",
    "- **is_alive() 判断进程是否存活**\n",
    "- **守护进程是通过设置 daemon 属性实现**"
   ]
  },
  {
   "cell_type": "code",
   "execution_count": null,
   "metadata": {},
   "outputs": [],
   "source": [
    "def worker():\n",
    "    print(\"子进程执行中>>> pid={0}，ppid={1}\".format(os.getpid(), os.getppid()))\n",
    "    time.sleep(2)\n",
    "    print(\"子进程终止>>> pid={0}\".format(os.getpid()))\n",
    "\n",
    "\n",
    "class MyProcess(Process):\n",
    "    def __init__(self):\n",
    "        Process.__init__(self)\n",
    "\n",
    "    def run(self):\n",
    "        print(\"子进程开始>>> pid={0}，ppid={1}\".format(os.getpid(), os.getppid()))\n",
    "        time.sleep(2)\n",
    "        print(\"子进程终止>>> pid={}\".format(os.getpid()))\n",
    "\n",
    "\n",
    "# 使用 Process 实例\n",
    "def main_wk():\n",
    "    print(\"主进程执行中>>> pid={0}\".format(os.getpid()))\n",
    "    ps = []\n",
    "    # 创建子进程实例\n",
    "    for i in range(2):\n",
    "        p = Process(target=worker(), name=\"worker\" + str(i), args=())\n",
    "        ps.append(p)\n",
    "    # 开启进程\n",
    "    for i in range(2):\n",
    "        ps[i].start()\n",
    "    # 阻塞进程\n",
    "    for i in range(2):\n",
    "        ps[i].join()\n",
    "    print(\"主进程终止\")\n",
    "\n",
    "\n",
    "# 使用 Process 自定义的派生类实例\n",
    "def main_mp():\n",
    "    print(\"主进程开始>>> pid={}\".format(os.getpid()))\n",
    "    myp = MyProcess()\n",
    "    myp.start()\n",
    "    myp.join()\n",
    "    print(\"主进程终止\")\n",
    "\n",
    "\n",
    "# 使用进程池，提供指定数量的进程给用户使用，即当有新的请求提交到进程池中时，如果池未满，则会创建一个新的进程用来执行该请求，反之，如果池中的进程数已经达到规定最大值，那么该请求就会等待，只要池中有进程空闲下来，该请求就能得到执行\n",
    "def main_pp():\n",
    "    print(\"主进程开始执行>>> pid={}\".format(os.getpid()))\n",
    "    pp = Pool(5)\n",
    "    for i in range(10):\n",
    "        # pp.apply(worker, args=(i,))  # 同步执行\n",
    "        pp.apply_async(worker, args=(i,))  # 异步执行\n",
    "    # 关闭进程池，停止接受其它进程\n",
    "    pp.close()\n",
    "    # 阻塞进程\n",
    "    pp.join()\n",
    "    print(\"主进程终止\")\n",
    "\n",
    "\n",
    "if __name__ == \"__main__\":\n",
    "    # jupyter 中可能出现 main 找不到某模块描述 python 中不会，bug暂未知\n",
    "    main_wk()\n",
    "    main_mp()\n",
    "    main_pp()"
   ]
  },
  {
   "cell_type": "markdown",
   "metadata": {},
   "source": [
    "## Python多线程\n",
    "**在 Python 多线程是假的，因为调度 CPU 的操作系统与 Python 解释器之间存在一层 GIL 全局解释器锁（Python 设计之初为了数据安全做出的妥协，后来出现得其他解释器如 pypy 和 jpython 中没有 GIL），线程想要执行，必须先拿到 GIL「通行证」，由于在一个 Python 进程之中 GIL 只有一个，拿不到通行证的线程，就不允许进入 CPU 执行，因此无论 CPU 有多少个核，都只能同时执行一个线程**\n",
    "\n",
    "- **Python 多线程对 CPU 密集型与 IO 密集型的代码执行效率是不同的，因为在执行 IO 密集型代码的过程中多线程切换的主要代价是 IO 切换而执行 CPU 密集型代码多线程切换的主要代价是时间切换，通常 IO 切换比时间切换耗时更长**\n",
    "\n",
    "- **CPU 密集型代码（各种循环处理、计算等）由于计算工作多，每个线程都是执行满 100 Tick 后再发出 GIL 的释放与再竞争，所以和单线程跑没啥区别，线程切换反而消耗了额外的时间**\n",
    "\n",
    "- **IO 密集型代码（文件处理、网络爬虫等频繁文件读写）多线程能够有效提升效率，单线程下 IO 操作会进入 IO 等待，造成不必要的时间浪费，而开启多线程能在线程 a 等待时，自动切换到线程 b，可以不浪费 CPU 的资源，效果类似真正的多线程，通常在 IO 上节省的时间会超过在线程切换消耗的时间，因此能提升程序的执行效率**"
   ]
  },
  {
   "cell_type": "code",
   "execution_count": 2,
   "metadata": {},
   "outputs": [],
   "source": [
    "import os\n",
    "import time\n",
    "import threading"
   ]
  },
  {
   "cell_type": "markdown",
   "metadata": {},
   "source": [
    "### 1.1 创建线程"
   ]
  },
  {
   "cell_type": "code",
   "execution_count": 2,
   "metadata": {},
   "outputs": [
    {
     "name": "stdout",
     "output_type": "stream",
     "text": [
      "task t1\n",
      "task t2\n"
     ]
    },
    {
     "name": "stdout",
     "output_type": "stream",
     "text": [
      "2s\n",
      "2s\n",
      "1s1s\n",
      "\n",
      "0s0s\n",
      "\n"
     ]
    }
   ],
   "source": [
    "def run(n):\n",
    "    print(\"task\", n)\n",
    "    time.sleep(1)\n",
    "    print(\"2s\")\n",
    "    time.sleep(1)\n",
    "    print(\"1s\")\n",
    "    time.sleep(1)\n",
    "    print(\"0s\")\n",
    "    time.sleep(1)\n",
    "\n",
    "\n",
    "if __name__ == \"__main__\":\n",
    "    # target 是要执行的函数对象名，args 是函数对应的参数，以元组的形式存在\n",
    "    t1 = threading.Thread(target=run, args=(\"t1\",))\n",
    "    t2 = threading.Thread(target=run, args=(\"t2\",))\n",
    "    t1.start()\n",
    "    t2.start()"
   ]
  },
  {
   "cell_type": "markdown",
   "metadata": {},
   "source": [
    "### 1.2、派生线程类创建\n",
    "- 继承 threading.Thread 来定义线程类，其本质是重构 Thread 类中的 run 方法\n"
   ]
  },
  {
   "cell_type": "code",
   "execution_count": null,
   "metadata": {},
   "outputs": [],
   "source": [
    "class MyThread(threading.Thread):\n",
    "    def __init__(self, n):\n",
    "        super(MyThread, self).__init__()\n",
    "        self.n = n\n",
    "\n",
    "    # 线程启动函数 run 必须写\n",
    "    def run(self):\n",
    "        print(\"task\", self.n)\n",
    "        time.sleep(1)\n",
    "        print(\"2s\")\n",
    "        time.sleep(1)\n",
    "        print(\"1s\")\n",
    "        time.sleep(1)\n",
    "        print(\"0s\")\n",
    "        time.sleep(1)\n",
    "\n",
    "\n",
    "if __name__ == \"__main__\":\n",
    "    t1 = MyThread(\"t1\")\n",
    "    t2 = MyThread(\"t2\")\n",
    "    t1.start()\n",
    "    t2.start()"
   ]
  },
  {
   "cell_type": "markdown",
   "metadata": {},
   "source": [
    "### 1.3、守护线程\n",
    "\n",
    "- **使用 setDaemon(True) 把所有的子线程都变成了主线程的守护线程，因此当主线程结束后，子线程也会随之结束，主线程不等待守护线程的执行完再去关闭，因此当主线程结束后，整个程序就退出了**\n",
    "- **主线程的结束意味着进程的结束，守护线程在此时就会被回收，只有其他非守护线程结束且主线程执行完毕，主线程才会关闭，进程才能结束，才会回收进程整体的资源**"
   ]
  },
  {
   "cell_type": "code",
   "execution_count": 4,
   "metadata": {},
   "outputs": [
    {
     "name": "stdout",
     "output_type": "stream",
     "text": [
      "start\n",
      "task t1\n",
      "end\n"
     ]
    },
    {
     "name": "stdout",
     "output_type": "stream",
     "text": [
      "3s\n",
      "2s\n",
      "1s\n"
     ]
    }
   ],
   "source": [
    "def run(n):\n",
    "    print(\"task\", n)\n",
    "    time.sleep(1)\n",
    "    print(\"3s\")\n",
    "    time.sleep(1)\n",
    "    print(\"2s\")\n",
    "    time.sleep(1)\n",
    "    print(\"1s\")\n",
    "\n",
    "\n",
    "if __name__ == \"__main__\":\n",
    "    t = threading.Thread(target=run, args=(\"t1\",))\n",
    "    # 通过执行结果可以看出，设置守护线程之后，当主线程结束时，子线程也将立即结束，不再执行\n",
    "    t.setDaemon(True)\n",
    "    print(\"start\")\n",
    "    t.start()\n",
    "    print(\"end\")"
   ]
  },
  {
   "cell_type": "markdown",
   "metadata": {},
   "source": [
    "### 1.4、阻塞线程"
   ]
  },
  {
   "cell_type": "code",
   "execution_count": null,
   "metadata": {},
   "outputs": [],
   "source": [
    "def run(n):\n",
    "    print(\"task\", n)\n",
    "    time.sleep(2)\n",
    "    print(\"5s\")\n",
    "    time.sleep(2)\n",
    "    print(\"3s\")\n",
    "    time.sleep(2)\n",
    "    print(\"1s\")\n",
    "\n",
    "\n",
    "if __name__ == \"__main__\":\n",
    "    t = threading.Thread(target=run, args=(\"t1\",))\n",
    "    # 把子线程设置为守护线程，必须在 start() 之前设置\n",
    "    t.setDaemon(True)\n",
    "    print(\"start\")\n",
    "    t.start()\n",
    "    # 设置主线程等待子线程结束\n",
    "    t.join()\n",
    "    print(\"end\")"
   ]
  },
  {
   "cell_type": "markdown",
   "metadata": {},
   "source": [
    "### 1.5、共享全局变量\n",
    "- 线程是进程的执行单元，进程是系统分配资源的最小执行单位，所以在同一个进程中的多线程是共享资源的"
   ]
  },
  {
   "cell_type": "code",
   "execution_count": 6,
   "metadata": {},
   "outputs": [
    {
     "name": "stdout",
     "output_type": "stream",
     "text": [
      "in work1 g_num is : 103\n",
      "in work2 g_num is : 103\n"
     ]
    }
   ],
   "source": [
    "g_num = 100\n",
    "\n",
    "\n",
    "def work1():\n",
    "    global g_num\n",
    "    for i in range(3):\n",
    "        g_num += 1\n",
    "    print(\"in work1 g_num is : %d\" % g_num)\n",
    "\n",
    "\n",
    "def work2():\n",
    "    global g_num\n",
    "    print(\"in work2 g_num is : %d\" % g_num)\n",
    "\n",
    "\n",
    "if __name__ == \"__main__\":\n",
    "    t1 = threading.Thread(target=work1)\n",
    "    t1.start()\n",
    "    time.sleep(1)\n",
    "    t2 = threading.Thread(target=work2)\n",
    "    t2.start()"
   ]
  },
  {
   "cell_type": "markdown",
   "metadata": {},
   "source": [
    "### 1.6、互斥锁\n",
    "- **由于线程之间是进行随机调度，当多个线程同时修改同一条数据时可能会出现脏数据，所以出现了线程锁，即同一时刻只允许一个线程执行某些操作**\n",
    "- **线程锁用于锁定资源，可以定义多个锁，像下面的代码，当需要独占某一个资源时，任何一个锁都可以锁定这个资源，就好比你用不同的锁都可以把这个相同的门锁住一样**\n",
    "- **由于线程之间是进行随机调度的，如果有多个线程同时操作一个对象，如果没有很好地保护该对象，会造成程序结果的不可预期，也称为「线程不安全」为了防止上面情况的发生，就出现了互斥锁（Lock）**）"
   ]
  },
  {
   "cell_type": "code",
   "execution_count": null,
   "metadata": {},
   "outputs": [],
   "source": [
    "def work():\n",
    "    global n\n",
    "    lock.acquire()\n",
    "    temp = n\n",
    "    time.sleep(0.1)\n",
    "    n = temp - 1\n",
    "    lock.release()\n",
    "\n",
    "\n",
    "if __name__ == \"__main__\":\n",
    "    lock = threading.Lock()\n",
    "    n = 100\n",
    "    l = []\n",
    "    for i in range(100):\n",
    "        p = threading.Thread(target=work)\n",
    "        l.append(p)\n",
    "        p.start()\n",
    "    for p in l:\n",
    "        p.join()"
   ]
  },
  {
   "cell_type": "markdown",
   "metadata": {},
   "source": [
    "### 1.7、递归锁\n",
    "\n",
    "- **RLock 类代表可重入锁（Reentrant Lock）法和Lock类一模一样，但它支持嵌套，在同一个线程中可以进行多次锁定，也可以多次释放。如果使用 RLock，那么 acquire() 和 release() 方法必须成对出现。如果调用了 n 次 acquire() 加锁，RLock 对象会维持一个计数器来追踪 acquire() 方法的嵌套调用，必须调用 n 次 release() 才能释放锁**\n"
   ]
  },
  {
   "cell_type": "code",
   "execution_count": null,
   "metadata": {},
   "outputs": [],
   "source": [
    "def func(lock):\n",
    "    global gl_num\n",
    "    lock.acquire()\n",
    "    gl_num += 1\n",
    "    time.sleep(1)\n",
    "    print(gl_num)\n",
    "    lock.release()\n",
    "\n",
    "\n",
    "if __name__ == \"__main__\":\n",
    "    gl_num = 0\n",
    "    lock = threading.RLock()\n",
    "    for i in range(10):\n",
    "        t = threading.Thread(target=func, args=(lock,))\n",
    "        t.start()"
   ]
  },
  {
   "cell_type": "markdown",
   "metadata": {},
   "source": [
    "### 1.8、信号量\n",
    "\n",
    "- **互斥锁同时只允许一个线程更改数据，而 BoundedSemaphore 是同时允许一定数量的线程更改数据，比如浴室有 3 个位置，那最多只允许 3 个人同时洗漱，后来的人只能等里头的人结束再进去**\n"
   ]
  },
  {
   "cell_type": "code",
   "execution_count": null,
   "metadata": {},
   "outputs": [],
   "source": [
    "def run(n, semaphore):\n",
    "    # 加锁\n",
    "    semaphore.acquire()\n",
    "    time.sleep(3)\n",
    "    print(\"run the thread:%s\\n\" % n)\n",
    "    # 释放\n",
    "    semaphore.release()\n",
    "\n",
    "\n",
    "if __name__ == \"__main__\":\n",
    "    num = 0\n",
    "    # 最多允许 5 个线程同时运行\n",
    "    semaphore = threading.BoundedSemaphore(5)\n",
    "    for i in range(22):\n",
    "        t = threading.Thread(target=run, args=(\"t-%s\" % i, semaphore))\n",
    "        t.start()\n",
    "    while threading.active_count() != 1:\n",
    "        pass\n",
    "    else:\n",
    "        print(\"----------all threads done-----------\")"
   ]
  },
  {
   "cell_type": "markdown",
   "metadata": {},
   "source": [
    "### 1.9、线程事件\n",
    "\n",
    "**事件 Event 是一个简单的线程同步对象，定义了一个全局 flag 用于主线程控制其他线程的执行**\n",
    "\n",
    "- **event.clear() 将 flag 设置为 False**\n",
    "- **event.set() 将 flag 设置为 True**\n",
    "- **event.is_set() 判断 flag 是否为 True**\n",
    "- **event.wait() 会一直监听 flag，如果没有检测到 flag 值为 False 就一直处于阻塞状态，当 flag 值为 True 便不再阻塞**\n"
   ]
  },
  {
   "cell_type": "code",
   "execution_count": null,
   "metadata": {},
   "outputs": [],
   "source": [
    "event = threading.Event()\n",
    "\n",
    "\n",
    "def lighter():\n",
    "    count = 0\n",
    "    # 初始，设置为绿灯\n",
    "    event.set()\n",
    "    while True:\n",
    "        if 5 < count <= 10:\n",
    "            # 红灯，清除标志位\n",
    "            event.clear()\n",
    "            print(\"\\33 red light is on...\\033\")\n",
    "        elif count > 10:\n",
    "            # 绿灯，设置标志位\n",
    "            event.set()\n",
    "            count = 0\n",
    "        else:\n",
    "            print(\"\\33 green light is on...\\033\")\n",
    "\n",
    "        time.sleep(1)\n",
    "        count += 1\n",
    "\n",
    "\n",
    "def car(name):\n",
    "    while True:\n",
    "        # 判断是否设置了标志位\n",
    "        if event.is_set():\n",
    "            print(\"[%s] running.....\" % name)\n",
    "            time.sleep(1)\n",
    "        else:\n",
    "            print(\"[%s] sees red light，waiting...\" % name)\n",
    "            event.wait()\n",
    "            print(\"[%s] green light is on，start going...\" % name)\n",
    "\n",
    "\n",
    "startTime = time.time()\n",
    "light = threading.Thread(\n",
    "    target=lighter,\n",
    ")\n",
    "light.start()\n",
    "\n",
    "car = threading.Thread(target=car, args=(\"MINT\",))\n",
    "car.start()\n",
    "endTime = time.time()\n",
    "print(\"用时：\", endTime - startTime)"
   ]
  }
 ],
 "metadata": {
  "kernelspec": {
   "display_name": "Python 3.9.12 ('tensor')",
   "language": "python",
   "name": "python3"
  },
  "language_info": {
   "codemirror_mode": {
    "name": "ipython",
    "version": 3
   },
   "file_extension": ".py",
   "mimetype": "text/x-python",
   "name": "python",
   "nbconvert_exporter": "python",
   "pygments_lexer": "ipython3",
   "version": "3.9.12"
  },
  "orig_nbformat": 4,
  "vscode": {
   "interpreter": {
    "hash": "f7567524e79b96d316162151a38259d28be4bc298929f85b9103bf7fbca02c0d"
   }
  }
 },
 "nbformat": 4,
 "nbformat_minor": 2
}
