{
 "cells": [
  {
   "cell_type": "code",
   "execution_count": 1,
   "metadata": {},
   "outputs": [
    {
     "name": "stdout",
     "output_type": "stream",
     "text": [
      "[2, 3, 4, 5, 15, 19, 26, 27, 36, 38, 44, 46, 47, 48, 50]\n"
     ]
    }
   ],
   "source": [
    "# 冒泡排序\n",
    "def bubble_sort(List):\n",
    "    # 1. 原列表长度\n",
    "    n = len(List)\n",
    "    # 2. 依次两两比较\n",
    "    for i in range(1, n):\n",
    "        for j in range(0, n - i):\n",
    "            # 3.前者比后者大，则交换位置\n",
    "            if List[j] > List[j + 1]:\n",
    "                List[j], List[j + 1] = List[j + 1], List[j]\n",
    "    return List\n",
    "\n",
    "\n",
    "if __name__ == \"__main__\":\n",
    "    List = [3, 44, 38, 5, 47, 15, 36, 26, 27, 2, 46, 4, 19, 50, 48]\n",
    "    result = bubble_sort(List)\n",
    "    print(result)"
   ]
  },
  {
   "cell_type": "code",
   "execution_count": 2,
   "metadata": {},
   "outputs": [
    {
     "name": "stdout",
     "output_type": "stream",
     "text": [
      "[2, 3, 4, 5, 15, 19, 26, 27, 36, 38, 44, 46, 47, 48, 50]\n"
     ]
    }
   ],
   "source": [
    "# 快速排序\n",
    "def quick_sort(List):\n",
    "    # 1. 原列表长度\n",
    "    n = len(List)\n",
    "    # 2. 若列表少于2个元素，返回当前列表（递归的结束条件）\n",
    "    if n < 2:\n",
    "        return List\n",
    "    # 3. 选取基准值，这里选择首位元素，并将其从原列表中移除（因为要将剩下的元素分组）\n",
    "    base = List[0]\n",
    "    List.remove(base)\n",
    "    # 3. 预先定义空列表，即基准值的左右两个列表\n",
    "    left, right = [], []\n",
    "    # 4. 遍历剩下的元素\n",
    "    for value in List:\n",
    "        if value >= base:\n",
    "            # 大于等于基准值放右边\n",
    "            right.append(value)\n",
    "        else:\n",
    "            # 小于基准值放左边\n",
    "            left.append(value)\n",
    "    # 5. 递归，将基准值放中间组合成已完成的有序列表\n",
    "    return quick_sort(left) + [base] + quick_sort(right)\n",
    "\n",
    "\n",
    "if __name__ == '__main__':\n",
    "    List = [3, 44, 38, 5, 47, 15, 36, 26, 27, 2, 46, 4, 19, 50, 48]\n",
    "    result = quick_sort(List)\n",
    "    print(result)"
   ]
  },
  {
   "cell_type": "code",
   "execution_count": 3,
   "metadata": {},
   "outputs": [
    {
     "name": "stdout",
     "output_type": "stream",
     "text": [
      "[2, 3, 4, 5, 15, 19, 26, 27, 36, 38, 44, 46, 47, 48, 50]\n"
     ]
    }
   ],
   "source": [
    "# 直接插入排序\n",
    "def insert_sort(List):\n",
    "    # 1. 原列表长度\n",
    "    n = len(List)\n",
    "    # 2. 依次遍历“待排序列表”（即原列表第2个元素开始）\n",
    "    for i in range(1, n):\n",
    "        # 当前待排序元素的值\n",
    "        current = List[i]\n",
    "        # “已排序列表”中最后一个元素的位置索引（相较于原列表）\n",
    "        index = i - 1\n",
    "        # 3. 从后往前遍历“已排序列表”\n",
    "        while index >= 0 and current < List[index]:\n",
    "            # 若小于，则交换值，继续往前遍历\n",
    "            List[index + 1], List[index] = List[index], current\n",
    "            index -= 1\n",
    "    return List\n",
    "\n",
    "\n",
    "if __name__ == '__main__':\n",
    "    List = [3, 44, 38, 5, 47, 15, 36, 26, 27, 2, 46, 4, 19, 50, 48]\n",
    "    result = insert_sort(List)\n",
    "    print(result)"
   ]
  },
  {
   "cell_type": "code",
   "execution_count": 4,
   "metadata": {},
   "outputs": [
    {
     "name": "stdout",
     "output_type": "stream",
     "text": [
      "[2, 3, 4, 5, 15, 19, 26, 27, 36, 38, 44, 46, 47, 48, 50]\n"
     ]
    }
   ],
   "source": [
    "# 希尔排序\n",
    "def shell_sort(List):\n",
    "    # 1. 原列表长度\n",
    "    n = len(List)\n",
    "    # 2. 首轮排序设置的间隔增量\n",
    "    h = int(n / 2)\n",
    "\n",
    "    # 3. 循环分组\n",
    "    while h >= 1:\n",
    "        # 4. 循环每一组子列表\n",
    "        for i in range(h, n):\n",
    "            # 当前待排序元素的值\n",
    "            current = List[i]\n",
    "            # “已排序列表”中最后一个元素的位置索引（相较于原列表）\n",
    "            index = i\n",
    "            # 5. 每一组子列表分别进行插入排序\n",
    "            while index >= h and current < List[index - h]:\n",
    "                # 若小于，则交换值，继续往前遍历\n",
    "                List[index], List[index - h] = List[index - h], current\n",
    "                index -= h\n",
    "        # 6. 间隔增量缩小一半，继续循环，直到 h=1 再整体进行最后一次插入排序\n",
    "        h = int(h / 2)\n",
    "    return List\n",
    "\n",
    "\n",
    "if __name__ == '__main__':\n",
    "    List = [3, 44, 38, 5, 47, 15, 36, 26, 27, 2, 46, 4, 19, 50, 48]\n",
    "    result = shell_sort(List)\n",
    "    print(result)"
   ]
  },
  {
   "cell_type": "code",
   "execution_count": 6,
   "metadata": {},
   "outputs": [
    {
     "name": "stdout",
     "output_type": "stream",
     "text": [
      "[2, 3, 4, 5, 15, 19, 26, 27, 36, 38, 44, 46, 47, 48, 50]\n"
     ]
    }
   ],
   "source": [
    "# 简单选择排序\n",
    "def select_sort(List):\n",
    "    # 1. 原列表长度\n",
    "    n = len(List)\n",
    "    # 2. 循环（n-1）轮排序\n",
    "    for i in range(n - 1):\n",
    "        # 3. 记下最小元素的位置索引，默认为每轮新的待排序列表的首位i\n",
    "        min_index = i\n",
    "        # 4. 循环寻找待排序列表中的最小元素的位置索引，并更新min_index\n",
    "        for j in range(i + 1, n):\n",
    "            if List[j] < List[min_index]:\n",
    "                min_index = j\n",
    "        # 5. 循环完元素后判断，若最小元素的位置索引min_index不是首位i，则交换元素\n",
    "        if min_index != i:\n",
    "            List[i], List[min_index] = List[min_index], List[i]\n",
    "    return List\n",
    "\n",
    "\n",
    "if __name__ == '__main__':\n",
    "    List = [3, 44, 38, 5, 47, 15, 36, 26, 27, 2, 46, 4, 19, 50, 48]\n",
    "    result = select_sort(List)\n",
    "    print(result)"
   ]
  },
  {
   "cell_type": "code",
   "execution_count": 11,
   "metadata": {},
   "outputs": [
    {
     "name": "stdout",
     "output_type": "stream",
     "text": [
      "[2, 3, 4, 5, 15, 19, 26, 27, 36, 38, 44, 46, 47, 48, 50]\n"
     ]
    }
   ],
   "source": [
    "# 堆排序\n",
    "def heap_sort(List):\n",
    "    build_heap(List)\n",
    "    for i in range(len(List) - 1, -1, -1):\n",
    "        List[0], List[i] = List[i], List[0]\n",
    "        heapify(List, 0, i)\n",
    "    return List\n",
    "\n",
    "# 构建堆\n",
    "def build_heap(List):\n",
    "    lenght = len(List)\n",
    "    # 从最后一个非叶子结点（右结点）开始\n",
    "    for i in range((lenght-1)//2, -1, -1):\n",
    "        heapify(List, i, lenght)\n",
    "\n",
    "# 将堆的节点向上调整\n",
    "def heapify(List, i, lenght):\n",
    "    # 1. 找到节点的左右孩子节点\n",
    "    left = i*2+1\n",
    "    right = i*2+2\n",
    "    \n",
    "    # 2. 判断左右孩子节点与父节点的大小，交换最大索引值\n",
    "    if left < lenght and List[left] > List[i]:\n",
    "        largest = left\n",
    "    else:\n",
    "        largest = i\n",
    "        \n",
    "    if right < lenght and List[right] > List[largest]:\n",
    "        largest = right\n",
    "\n",
    "    # 3. 若最大值节点的索引发生变化，则交换值\n",
    "    if largest != i:\n",
    "        List[i], List[largest] = List[largest], List[i]\n",
    "        \n",
    "        # 4. 递归继续寻找最大值节点索引\n",
    "        heapify(List, largest, lenght)\n",
    "\n",
    "\n",
    "if __name__ == '__main__':\n",
    "    List = [3, 44, 38, 5, 47, 15, 36, 26, 27, 2, 46, 4, 19, 50, 48]\n",
    "    result = heap_sort(List)\n",
    "    print(result)"
   ]
  },
  {
   "cell_type": "code",
   "execution_count": null,
   "metadata": {},
   "outputs": [],
   "source": [
    "# 归并排序\n",
    "def merge(left, right):\n",
    "    \"\"\"\n",
    "    副程序：合并排序\n",
    "    \"\"\"\n",
    "    result = []\n",
    "    while left and right:\n",
    "        if left[0] <= right[0]:\n",
    "            result.append(left.pop(0))  # 每次消掉首位元素\n",
    "        else:\n",
    "            result.append(right.pop(0)) # 每次消掉首位元素\n",
    "    while left:\n",
    "        result.append(left.pop(0))  # 每次消掉首位元素\n",
    "    while right:\n",
    "        result.append(right.pop(0)) # 每次消掉首位元素\n",
    "    return result\n",
    "\n",
    "def merge_sort(List):\n",
    "    \"\"\"\n",
    "    主程序\n",
    "    \"\"\"\n",
    "    # 1. 原列表长度\n",
    "    n = len(List)\n",
    "    # 2. 若列表少于2个元素，返回当前列表（递归的结束条件）\n",
    "    if n < 2:\n",
    "        return List\n",
    "    # 3. 拆分成左、右2个列表\n",
    "    middle = n // 2\n",
    "    left, right = List[0:middle], List[middle:]\n",
    "    # 4. 返回递归结果\n",
    "    return merge(merge_sort(left), merge_sort(right))\n",
    "\n",
    "\n",
    "if __name__ == '__main__':\n",
    "    List = [3, 44, 38, 5, 47, 15, 36, 26, 27, 2, 46, 4, 19, 50, 48]\n",
    "    result = merge_sort(List)\n",
    "    print(result)"
   ]
  },
  {
   "cell_type": "code",
   "execution_count": 5,
   "metadata": {},
   "outputs": [
    {
     "name": "stdout",
     "output_type": "stream",
     "text": [
      "[2, 3, 4, 5, 15, 19, 26, 27, 36, 38, 44, 46, 47, 48, 50]\n"
     ]
    }
   ],
   "source": [
    "# 计数排序\n",
    "def count_sort(List):\n",
    "    # 1. 原列表长度\n",
    "    n = len(List)\n",
    "    # 2. 初始化一个尽量大长度的“计数列表”，用来统计原列表各个元素出现次数\n",
    "    max_value = max(List)\n",
    "    min_value = min(List)\n",
    "    count_len = max_value - min_value + 1\n",
    "    count_list = [0 for i in range(count_len)]\n",
    "    # 3. 初始化一个最终“结果列表”\n",
    "    res = [0 for i in range(n)]\n",
    "    # 4. 遍历“原列表”，统计各元素出现次数，并记录在“计数列表”（只要是同一个元素就会出现在同一位置）\n",
    "    for value in List:\n",
    "        # 该元素与最小值的距离\n",
    "        distance = value - min_value\n",
    "        count_list[distance] += 1\n",
    "    # 5. 遍历“计数列表”，每个元素前一位，增加到本元素中，“计数列表”即刻更新\n",
    "    for j in range(1, count_len):\n",
    "        count_list[j] = count_list[j] + count_list[j - 1]\n",
    "    # 6. 遍历“原列表”，统计各个元素前比自己小的数的个数，然后输出\n",
    "    for value in List:\n",
    "        # 该元素与最小值的距离\n",
    "        distance = value - min_value\n",
    "        res[count_list[distance] - 1] = value\n",
    "        count_list[distance] -= 1\n",
    "    return res\n",
    "\n",
    "\n",
    "if __name__ == '__main__':\n",
    "    List = [3, 44, 38, 5, 47, 15, 36, 26, 27, 2, 46, 4, 19, 50, 48]\n",
    "    result = count_sort(List)\n",
    "    print(result)"
   ]
  },
  {
   "cell_type": "code",
   "execution_count": 7,
   "metadata": {},
   "outputs": [
    {
     "name": "stdout",
     "output_type": "stream",
     "text": [
      "[2, 3, 4, 5, 15, 19, 26, 27, 36, 38, 44, 46, 47, 48, 50]\n"
     ]
    }
   ],
   "source": [
    "def bucket_sort(List):\n",
    "    # 1. 原列表长度\n",
    "    n = len(List)\n",
    "    # 2. 初始化一个个空的“桶列表”\n",
    "    min_value = min(List)\n",
    "    max_value = max(List)\n",
    "    bucket_len = (max_value - min_value) / n\n",
    "    bucket_list = [[] for i in range(n + 1)]\n",
    "    # 3. 遍历“原列表”，向“桶列表”压入元素\n",
    "    for value in List:\n",
    "        bucket_list[int((value - min_value) // bucket_len)].append(value)\n",
    "    # 4. 声明一个返回的“结果列表”\n",
    "    res = []\n",
    "    # 5. 遍历“桶列表”，这里直接使用sorted排序，压入“结果列表”\n",
    "    for i in bucket_list:\n",
    "        for j in sorted(i):\n",
    "            res.append(j)\n",
    "    return res\n",
    "\n",
    "\n",
    "if __name__ == '__main__':\n",
    "    List = [3, 44, 38, 5, 47, 15, 36, 26, 27, 2, 46, 4, 19, 50, 48]\n",
    "    result = bucket_sort(List)\n",
    "    print(result)"
   ]
  },
  {
   "cell_type": "code",
   "execution_count": 6,
   "metadata": {},
   "outputs": [
    {
     "name": "stdout",
     "output_type": "stream",
     "text": [
      "[2, 3, 4, 5, 15, 19, 26, 27, 36, 38, 44, 46, 47, 48, 50]\n"
     ]
    }
   ],
   "source": [
    "# 基数排序\n",
    "def radix_sort(List):\n",
    "    # 1.记录初始排序的位置，为个位数\n",
    "    index = 0\n",
    "    # 2.“原列表”最大值\n",
    "    max_value = max(List)\n",
    "    # 3.最大值的长度\n",
    "    max_value_len = len(str(max_value))\n",
    "    # 4.循环按位数排序\n",
    "    while index < max_value_len:\n",
    "        # 5.初始化一个空的[]“桶列表”\n",
    "        bucket_list = [[] for i in range(10)]\n",
    "        for value in List:\n",
    "            # 6.放入“桶列表”\n",
    "            bucket_list[int(value / (10 ** index)) % 10].append(value)\n",
    "        # 7.清空“原列表”\n",
    "        List.clear()\n",
    "        # 8.遍历“桶列表”元素，将元素放入“原列表”\n",
    "        for x in bucket_list:\n",
    "            for y in x:\n",
    "                List.append(y)\n",
    "        # 9.位数+1\n",
    "        index += 1\n",
    "    return List\n",
    "\n",
    "\n",
    "if __name__ == '__main__':\n",
    "    List = [3, 44, 38, 5, 47, 15, 36, 26, 27, 2, 46, 4, 19, 50, 48]\n",
    "    result = radix_sort(List)\n",
    "    print(result)"
   ]
  }
 ],
 "metadata": {
  "interpreter": {
   "hash": "f7567524e79b96d316162151a38259d28be4bc298929f85b9103bf7fbca02c0d"
  },
  "kernelspec": {
   "display_name": "Python 3.9.12 ('tensor')",
   "language": "python",
   "name": "python3"
  },
  "language_info": {
   "codemirror_mode": {
    "name": "ipython",
    "version": 3
   },
   "file_extension": ".py",
   "mimetype": "text/x-python",
   "name": "python",
   "nbconvert_exporter": "python",
   "pygments_lexer": "ipython3",
   "version": "3.9.12"
  },
  "orig_nbformat": 4
 },
 "nbformat": 4,
 "nbformat_minor": 2
}
