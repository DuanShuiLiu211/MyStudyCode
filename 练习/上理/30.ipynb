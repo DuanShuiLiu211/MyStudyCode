{
 "cells": [
  {
   "cell_type": "code",
   "execution_count": 5,
   "metadata": {
    "pycharm": {
     "name": "#%%\n"
    }
   },
   "outputs": [
    {
     "name": "stdout",
     "output_type": "stream",
     "text": [
      "4438531344 4677459616\n",
      "4952555136 4835154240\n",
      "True True\n",
      "tensor(2.)\n",
      "None tensor(5.)\n"
     ]
    }
   ],
   "source": [
    "import torch\n",
    "a = torch.tensor(1.0, requires_grad=True)\n",
    "b = a.clone()\n",
    "# a和b不是同一个对象\n",
    "print(id(a), id(b))\n",
    "# 也不指向同一块内存地址\n",
    "print(a.data_ptr(), b.data_ptr())\n",
    "# 但b的requires_grad属性和a的一样，同样是True\n",
    "print(a.requires_grad, b.requires_grad)\n",
    "\n",
    "c = a * 2\n",
    "c.backward()\n",
    "print(a.grad)\n",
    "\n",
    "b = b + 2\n",
    "d = b * 3\n",
    "d.backward()\n",
    "# b是普通节点而非叶子结点梯度值不会被保存, 但是b在计算图中，其梯度会传递给a\n",
    "print(b.grad, a.grad)\n"
   ]
  },
  {
   "cell_type": "code",
   "execution_count": 6,
   "metadata": {
    "pycharm": {
     "name": "#%%\n"
    }
   },
   "outputs": [
    {
     "name": "stdout",
     "output_type": "stream",
     "text": [
      "4401773920 4401773920\n",
      "4952537088 4952537088\n",
      "True True\n",
      "tensor(2.)\n",
      "tensor(5.) tensor(5.)\n"
     ]
    }
   ],
   "source": [
    "import torch\n",
    "a = torch.tensor(1.0, requires_grad=True)\n",
    "b = a\n",
    "print(id(a), id(b))\n",
    "print(a.data_ptr(), b.data_ptr())\n",
    "print(a.requires_grad, b.requires_grad)\n",
    "\n",
    "c = a * 2\n",
    "c.backward()\n",
    "print(a.grad)\n",
    "\n",
    "# b = b + 2\n",
    "d = b * 3\n",
    "d.backward()\n",
    "print(b.grad, a.grad)"
   ]
  },
  {
   "cell_type": "code",
   "execution_count": 1,
   "metadata": {
    "pycharm": {
     "name": "#%%\n"
    }
   },
   "outputs": [
    {
     "name": "stdout",
     "output_type": "stream",
     "text": [
      "[0, 1, 2, 3, 4, 5, 6, 7, 8, 9]\n"
     ]
    }
   ],
   "source": [
    "# 冒泡排序\n",
    "rand_list = [0, 1, 4, 3, 2, 5, 6, 7, 9, 8]\n",
    "n = len(rand_list)\n",
    "for i in range(1, n):\n",
    "    for j in range(0, n - i):\n",
    "        if rand_list[j] > rand_list[j + 1]:\n",
    "            rand_list[j], rand_list[j + 1] = rand_list[j + 1], rand_list[j]\n",
    "print(rand_list)"
   ]
  }
 ],
 "metadata": {
  "interpreter": {
   "hash": "f7567524e79b96d316162151a38259d28be4bc298929f85b9103bf7fbca02c0d"
  },
  "kernelspec": {
   "display_name": "Python 3.9.12 ('tensor')",
   "language": "python",
   "name": "python3"
  },
  "language_info": {
   "codemirror_mode": {
    "name": "ipython",
    "version": 3
   },
   "file_extension": ".py",
   "mimetype": "text/x-python",
   "name": "python",
   "nbconvert_exporter": "python",
   "pygments_lexer": "ipython3",
   "version": "3.9.12"
  },
  "orig_nbformat": 4
 },
 "nbformat": 4,
 "nbformat_minor": 2
}