{
 "cells": [
  {
   "cell_type": "code",
   "execution_count": 1,
   "metadata": {
    "pycharm": {
     "name": "#%%\n"
    }
   },
   "outputs": [],
   "source": [
    "import os\n",
    "import tifffile\n",
    "import numpy as np\n",
    "\n",
    "filePath = '/Users/WangHao/工作/上海理工大学/论文/小论文/超分辨成像与像差补偿/源数据/label_4_20'\n",
    "if not os.path.exists(filePath):\n",
    "    os.mkdir(filePath)\n",
    "for root, dir, files in os.walk(filePath):\n",
    "    for name in files:\n",
    "        if '.tif' in name:\n",
    "            image = tifffile.imread(os.path.join(root, name))\n",
    "\n",
    "            # import matplotlib.pyplot as plot\n",
    "            # plot.imshow(image)\n",
    "            # plot.show()\n",
    "\n",
    "            np.save(os.path.join(root, name.replace(\"tif\", \"npy\")), image)\n"
   ]
  },
  {
   "cell_type": "code",
   "execution_count": null,
   "metadata": {
    "pycharm": {
     "name": "#%%\n"
    }
   },
   "outputs": [],
   "source": [
    "import sys\n",
    "from collections import defaultdict\n",
    "\n",
    "n, m = map(int, sys.stdin.readline().strip().split())\n",
    "q = defaultdict(list)\n",
    "location = defaultdict(list)\n",
    "for i in range(1, n + 1):\n",
    "    q[i] = [i]\n",
    "    location[i] = [i, 0]\n",
    "for _ in range(m):\n",
    "    operate = sys.stdin.readline().strip().split()\n",
    "    char = operate[0]\n",
    "    a = int(operate[1])\n",
    "    b = int(operate[2])\n",
    "    if char == \"C\":\n",
    "        for i in range(len(q[a])):\n",
    "            location[q[a][i]][0] = b\n",
    "            location[q[a][i]][1] += len(q[b])\n",
    "        q[b] += q[a]\n",
    "        q[a] = []\n",
    "    elif char == \"Q\":\n",
    "        print(-1 if location[a][0] != location[b][0] else max(\n",
    "            0,\n",
    "            abs(location[a][1] - location[b][1]) - 1))\n"
   ]
  },
  {
   "cell_type": "code",
   "execution_count": 26,
   "metadata": {
    "pycharm": {
     "name": "#%%\n"
    }
   },
   "outputs": [
    {
     "name": "stdout",
     "output_type": "stream",
     "text": [
      "ture\n",
      "<re.Match object; span=(0, 8), match='s=6whhm6'>\n"
     ]
    }
   ],
   "source": [
    "import re\n",
    "\n",
    "strings = \"s=6whhm6\"\n",
    "patten = re.match(\"^[a-z]=\\w[\\w,\\s]*\", strings)\n",
    "if patten is not None:\n",
    "    print(\"ture\")\n",
    "else:\n",
    "    print(\"false\")\n",
    "print(patten)"
   ]
  },
  {
   "cell_type": "code",
   "execution_count": 12,
   "outputs": [
    {
     "name": "stdout",
     "output_type": "stream",
     "text": [
      "false\n"
     ]
    }
   ],
   "source": [
    "value_list_1 = list(range(97, 123))\n",
    "value_list_2 = [*tuple(range(48, 58)), *tuple(range(65, 91)), *tuple(range(97, 123))]\n",
    "value_list_3 = [32, *tuple(range(48, 58)), *tuple(range(65, 91)), *tuple(range(97, 123))]\n",
    "\n",
    "strings = \"s= 66same\"\n",
    "flag = 1\n",
    "for idx, char in enumerate(strings):\n",
    "    if idx == 0:\n",
    "        if ord(str(char)) not in value_list_1:\n",
    "            flag = 0\n",
    "            break\n",
    "    elif idx == 1:\n",
    "        if ord(str(char)) != 61:\n",
    "            flag = 0\n",
    "            break\n",
    "    elif idx == 2:\n",
    "        if ord(str(char)) not in value_list_2:\n",
    "            flag = 0\n",
    "            break\n",
    "    else:\n",
    "        if ord(str(char)) not in value_list_3:\n",
    "            flag = 0\n",
    "            break\n",
    "\n",
    "if flag:\n",
    "     print(\"ture\")\n",
    "else:\n",
    "    print(\"false\")"
   ],
   "metadata": {
    "collapsed": false,
    "pycharm": {
     "name": "#%%\n"
    }
   }
  },
  {
   "cell_type": "code",
   "execution_count": 24,
   "outputs": [
    {
     "name": "stdout",
     "output_type": "stream",
     "text": [
      "re.compile('\\\\d{2}:\\\\d{2}')\n"
     ]
    }
   ],
   "source": [
    "import re\n",
    "\n",
    "pattern = re.compile('\\d{2}:\\d{2}')\n",
    "print(pattern)"
   ],
   "metadata": {
    "collapsed": false,
    "pycharm": {
     "name": "#%%\n"
    }
   }
  },
  {
   "cell_type": "code",
   "execution_count": 19,
   "outputs": [
    {
     "name": "stdout",
     "output_type": "stream",
     "text": [
      "fooa\n",
      "('fooa', 's')\n"
     ]
    }
   ],
   "source": [
    "import re\n",
    "regex = '(foo\\w)(\\w)'\n",
    "m = re.match(r'(foo\\w)(\\w)','fooasdfooasd')\n",
    "if m is not None:\n",
    "    print(m.group(1))\n",
    "    print(m.groups())"
   ],
   "metadata": {
    "collapsed": false,
    "pycharm": {
     "name": "#%%\n"
    }
   }
  },
  {
   "cell_type": "code",
   "execution_count": 23,
   "outputs": [
    {
     "name": "stdout",
     "output_type": "stream",
     "text": [
      "<re.Match object; span=(2, 17), match='<aaa>aaaa</aaa>'>\n"
     ]
    }
   ],
   "source": [
    "import re\n",
    "\n",
    "regex = '<(.*)>(.*)<\\/(.*)>|<(.*)\\/>'\n",
    "m = re.search(regex, \"aa<aaa>aaaa</aaa>aa\")\n",
    "print(m)"
   ],
   "metadata": {
    "collapsed": false,
    "pycharm": {
     "name": "#%%\n"
    }
   }
  },
  {
   "cell_type": "code",
   "execution_count": 32,
   "outputs": [
    {
     "data": {
      "text/plain": "['a', ',', 'b', ',', ',', ',', ',', 'c', ' ', 'd']"
     },
     "execution_count": 32,
     "metadata": {},
     "output_type": "execute_result"
    }
   ],
   "source": [
    "import re\n",
    "\n",
    "string = 'a,b,,,,c d'\n",
    "re.findall('.', string)\n",
    "# ['a', 'b', 'c', 'd']"
   ],
   "metadata": {
    "collapsed": false,
    "pycharm": {
     "name": "#%%\n"
    }
   }
  },
  {
   "cell_type": "code",
   "execution_count": null,
   "outputs": [],
   "source": [
    "import re\n",
    "text = \"I am so happy! \"\n",
    "array1 = re.findall(\"[a-zA-Z]\", text)\n",
    "array2 = re.findall(\"[a-zA-Z]+\", text)\n",
    "print(array1)\n",
    "print(array2)"
   ],
   "metadata": {
    "collapsed": false,
    "pycharm": {
     "name": "#%%\n"
    }
   }
  },
  {
   "cell_type": "code",
   "execution_count": 31,
   "outputs": [
    {
     "name": "stdout",
     "output_type": "stream",
     "text": [
      "hello whhm\n"
     ]
    }
   ],
   "source": [
    "import re\n",
    "s = \"hello 2022\"\n",
    "s = re.sub(\"([0-9]+)\",\"whhm\", s)\n",
    "print(s)\n",
    "s.s"
   ],
   "metadata": {
    "collapsed": false,
    "pycharm": {
     "name": "#%%\n"
    }
   }
  },
  {
   "cell_type": "code",
   "execution_count": null,
   "outputs": [],
   "source": [],
   "metadata": {
    "collapsed": false,
    "pycharm": {
     "name": "#%%\n"
    }
   }
  }
 ],
 "metadata": {
  "kernelspec": {
   "display_name": "Python 3.9.12 ('tensor')",
   "language": "python",
   "name": "python3"
  },
  "language_info": {
   "codemirror_mode": {
    "name": "ipython",
    "version": 3
   },
   "file_extension": ".py",
   "mimetype": "text/x-python",
   "name": "python",
   "nbconvert_exporter": "python",
   "pygments_lexer": "ipython3",
   "version": "3.9.12"
  },
  "orig_nbformat": 4,
  "vscode": {
   "interpreter": {
    "hash": "f7567524e79b96d316162151a38259d28be4bc298929f85b9103bf7fbca02c0d"
   }
  }
 },
 "nbformat": 4,
 "nbformat_minor": 2
}