{
 "cells": [
  {
   "cell_type": "markdown",
   "metadata": {},
   "source": [
    "# 约瑟夫环\n",
    "已知n个人（以编号0，1，2，3，...，n-1表示）围坐在一张圆桌周围。从编号为0的人开始报数1，数到m的那个人出列；他的下一个人又从1开始报数，数到m的那个人又出列；依此规律重复下去，直到圆桌周围的人全部出列。\n",
    "\n",
    "- 分析，把所有人放到一个列表里，如果报的数字不是m，就把这个人放到列表的最后一个位置；如果是m，就把这个人从列表中去掉，直到列表剩下两个人为止。"
   ]
  },
  {
   "cell_type": "code",
   "execution_count": 1,
   "metadata": {},
   "outputs": [
    {
     "name": "stdout",
     "output_type": "stream",
     "text": [
      "最后剩下的是第 15 人\n",
      "淘汰顺序为 [4, 8, 12, 16, 20, 24, 28, 32, 36, 40, 44, 48, 52, 1, 6, 11, 17, 22, 27, 33, 38, 43, 49, 54, 5, 13, 19, 26, 34, 41, 47, 55, 9, 18, 29, 37, 46, 2, 14, 25, 39, 51, 10, 30, 45, 7, 31, 53, 23, 3, 42, 35, 50, 21]\n"
     ]
    }
   ],
   "source": [
    "def Josephus(data, step):\n",
    "    ls1 = [i for i in range(1, data + 1)]\n",
    "    ls2 = []\n",
    "    num = 0\n",
    "    while len(ls1) > 1:\n",
    "        num += 1\n",
    "        count = ls1.pop(0)\n",
    "        if num == step:\n",
    "            ls2.append(count)\n",
    "            num = 0\n",
    "        else:\n",
    "            ls1.append(count)\n",
    "    return {\"lastData\": ls1[0], \"delData\": ls2}\n",
    "\n",
    "\n",
    "result = Josephus(55, 4)\n",
    "print(\"最后剩下的是第\", result[\"lastData\"], \"人\")\n",
    "print(\"淘汰顺序为\", result[\"delData\"])\n"
   ]
  }
 ],
 "metadata": {
  "kernelspec": {
   "display_name": "Python 3.9.12 ('tensor')",
   "language": "python",
   "name": "python3"
  },
  "language_info": {
   "codemirror_mode": {
    "name": "ipython",
    "version": 3
   },
   "file_extension": ".py",
   "mimetype": "text/x-python",
   "name": "python",
   "nbconvert_exporter": "python",
   "pygments_lexer": "ipython3",
   "version": "3.9.12 (main, Jun  1 2022, 06:34:44) \n[Clang 12.0.0 ]"
  },
  "orig_nbformat": 4,
  "vscode": {
   "interpreter": {
    "hash": "f7567524e79b96d316162151a38259d28be4bc298929f85b9103bf7fbca02c0d"
   }
  }
 },
 "nbformat": 4,
 "nbformat_minor": 2
}
