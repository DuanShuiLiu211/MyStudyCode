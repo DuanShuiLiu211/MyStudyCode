{
 "cells": [
  {
   "cell_type": "code",
   "execution_count": 8,
   "metadata": {
    "pycharm": {
     "name": "#%%\n"
    }
   },
   "outputs": [],
   "source": [
    "graph_nt = {\n",
    "    'A': ['B', 'C', 'D'],\n",
    "    'B': ['A', 'E', 'F'],\n",
    "    'C': ['A', 'D', 'F', 'G'],\n",
    "    'D': ['A', 'C', 'G'],\n",
    "    'E': ['B'],\n",
    "    'F': ['B', 'C'],\n",
    "    'G': ['C', 'D']\n",
    "}"
   ]
  },
  {
   "cell_type": "code",
   "execution_count": 9,
   "metadata": {
    "pycharm": {
     "name": "#%%\n"
    }
   },
   "outputs": [],
   "source": [
    "def BFS(start, graph):\n",
    "    queue = []\n",
    "    visit = []\n",
    "    queue.append(start)\n",
    "    while queue:\n",
    "        node = queue.pop(0)\n",
    "        visit.append(node)\n",
    "        nodes = graph[node]\n",
    "        for i in nodes:\n",
    "            if i not in visit:\n",
    "                queue.append(i)\n",
    "                visit.append(i)\n",
    "        print(node, end='\\t')"
   ]
  },
  {
   "cell_type": "code",
   "execution_count": 10,
   "metadata": {
    "pycharm": {
     "name": "#%%\n"
    }
   },
   "outputs": [
    {
     "name": "stdout",
     "output_type": "stream",
     "text": [
      "A\tB\tC\tD\tE\tF\tG\t"
     ]
    }
   ],
   "source": [
    "BFS(start='A', graph=graph_nt)"
   ]
  },
  {
   "cell_type": "code",
   "execution_count": 11,
   "metadata": {
    "pycharm": {
     "name": "#%%\n"
    }
   },
   "outputs": [],
   "source": [
    "def DFS(start, graph):\n",
    "    stack = []\n",
    "    visit = []\n",
    "    stack.append(start)\n",
    "    while stack:\n",
    "        node = stack.pop()\n",
    "        visit.append(node)\n",
    "        nodes = graph[node]\n",
    "        for i in nodes:\n",
    "            if i not in visit:\n",
    "                stack.append(i)\n",
    "                visit.append(i)\n",
    "        print(node, end='\\t')"
   ]
  },
  {
   "cell_type": "code",
   "execution_count": 12,
   "metadata": {
    "pycharm": {
     "name": "#%%\n"
    }
   },
   "outputs": [
    {
     "name": "stdout",
     "output_type": "stream",
     "text": [
      "A\tD\tG\tC\tF\tB\tE\t"
     ]
    }
   ],
   "source": [
    "DFS(start='A', graph=graph_nt)"
   ]
  }
 ],
 "metadata": {
  "interpreter": {
   "hash": "f7567524e79b96d316162151a38259d28be4bc298929f85b9103bf7fbca02c0d"
  },
  "kernelspec": {
   "display_name": "Python 3.9.12 ('tensor')",
   "language": "python",
   "name": "python3"
  },
  "language_info": {
   "codemirror_mode": {
    "name": "ipython",
    "version": 3
   },
   "file_extension": ".py",
   "mimetype": "text/x-python",
   "name": "python",
   "nbconvert_exporter": "python",
   "pygments_lexer": "ipython3",
   "version": "3.9.12"
  },
  "orig_nbformat": 4
 },
 "nbformat": 4,
 "nbformat_minor": 2
}