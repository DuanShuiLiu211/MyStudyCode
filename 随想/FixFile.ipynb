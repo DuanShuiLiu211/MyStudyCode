{
 "cells": [
  {
   "cell_type": "code",
   "execution_count": null,
   "metadata": {
    "pycharm": {
     "name": "#%%\n"
    }
   },
   "outputs": [],
   "source": [
    "import os\n",
    "from glob import glob\n",
    "\n",
    "# 读取路径\n",
    "image_sequence_path = \"/Users/WangHao/工作/实习相关/微创卜算子医疗科技有限公司/陈嘉懿组/数据/佳文数据_0722/短轴视频_0722\"\n",
    "image_sequence_list = os.listdir(image_sequence_path)\n",
    "image_sequence_list = sorted(image_sequence_list)\n",
    "\n",
    "for path_name in image_sequence_list:\n",
    "    # 读取文件\n",
    "    ext = \"npy\"\n",
    "    file_list = glob(f\"{os.path.join(image_sequence_path, path_name)}/*.{ext}\")\n",
    "    try:\n",
    "        for file in file_list:\n",
    "            os.remove(file)\n",
    "    except:\n",
    "        print(f\"{path_name}中不存在{ext}类型文件\")\n",
    "\n",
    "print(\"运行结束\")"
   ]
  },
  {
   "cell_type": "code",
   "execution_count": 5,
   "metadata": {
    "pycharm": {
     "name": "#%%\n"
    }
   },
   "outputs": [
    {
     "name": "stdout",
     "output_type": "stream",
     "text": [
      "运行结束\n"
     ]
    }
   ],
   "source": [
    "import os\n",
    "import shutil\n",
    "\n",
    "path = r\"/Users/WangHao/工作/实习相关/微创卜算子医疗科技有限公司/陈嘉懿组/数据/王昊数据_0801/\"\n",
    "save_path = \"/Users/WangHao/工作/实习相关/微创卜算子医疗科技有限公司/陈嘉懿组/数据/dataset_0802\"\n",
    "\n",
    "# 通过DFS实现统一逻辑处理同一层次的文件对象\n",
    "for root, dirs, files in os.walk(path):\n",
    "    if not dirs:\n",
    "        keywords = [\"label\", \"visual\"]\n",
    "        dir_name = root.split(\"/\")[-1]\n",
    "        keys = [key for key in keywords if key in dir_name]\n",
    "        if not keys:\n",
    "            save_image_path = os.path.join(save_path, \"image\", dir_name)\n",
    "            if not os.path.exists(save_image_path):\n",
    "                os.makedirs(save_image_path)\n",
    "            ext = \".png\"\n",
    "            for file_name in files:\n",
    "                if ext in file_name:\n",
    "                    shutil.copy(os.path.join(root, file_name), save_image_path)\n",
    "\n",
    "        if keys == [\"label\"]:\n",
    "            save_label_path = os.path.join(save_path, \"label\", dir_name.replace(\"_label\", \"\"))\n",
    "            if not os.path.exists(save_label_path):\n",
    "                os.makedirs(save_label_path)\n",
    "            ext = \".png\"\n",
    "            for file_name in files:\n",
    "                if ext in file_name:\n",
    "                    shutil.copy(os.path.join(root, file_name), save_label_path)\n",
    "\n",
    "print(\"运行结束\")"
   ]
  },
  {
   "cell_type": "code",
   "execution_count": null,
   "metadata": {
    "pycharm": {
     "name": "#%%\n"
    }
   },
   "outputs": [],
   "source": [
    "import cv2\n",
    "import numpy as np\n",
    "\n",
    "filePath = '/Volumes/昊大侠/工作/实习相关/微创卜算子医疗科技有限公司/陈嘉懿组/数据/短轴动态狭窄率/dataset_0802/label/06570820220302_CA MASHAOYONG_20220302091109144'\n",
    "if not os.path.exists(filePath.replace('dataset_0706', 'dataset_0706_nb')):\n",
    "    os.mkdir(filePath.replace('dataset_0706', 'dataset_0706_nb'))\n",
    "for root, dir, files in os.walk(filePath):\n",
    "    for i in files:\n",
    "        if 'label' in i:\n",
    "            label = cv2.imdecode(np.fromfile(f\"{root}/{i}\", dtype=np.uint8), -1)\n",
    "            label[..., 0] = 0\n",
    "            image = cv2.imread(root + '/' + i.replace('label', 'image'))\n",
    "\n",
    "            if not os.path.exists(\n",
    "                    root.replace('dataset_0706', 'dataset_0706_nb')):\n",
    "                os.mkdir(root.replace('dataset_0706', 'dataset_0706_nb'))\n",
    "\n",
    "            cv2.imencode('.png', label)[-1].tofile(\n",
    "                root.replace('dataset_0706', 'dataset_0706_nb') + '/' + i)\n",
    "            cv2.imencode('.png', image)[-1].tofile(\n",
    "                root.replace('dataset_0706', 'dataset_0706_nb') + '/' +\n",
    "                i.replace('label', 'image'))\n",
    "\n",
    "print(\"运行结束\")"
   ]
  },
  {
   "cell_type": "code",
   "execution_count": null,
   "metadata": {
    "pycharm": {
     "name": "#%%\n"
    }
   },
   "outputs": [],
   "source": [
    "import numpy as np\n",
    "import os\n",
    "import cv2\n",
    "from skimage import morphology\n",
    "\n",
    "\n",
    "def remove_isolate(inputs, threshold_area=0.5):\n",
    "    \"\"\"\n",
    "    inputs: x*y*3\n",
    "    \"\"\"\n",
    "    mask = np.zeros((inputs.shape[0], inputs.shape[1]), dtype=np.uint8)\n",
    "    mask[np.sum(inputs, axis=-1) > 0] = 1\n",
    "    mask = morphology.remove_small_objects(mask.astype(np.bool8),\n",
    "                                           np.sum(mask) * threshold_area,\n",
    "                                           connectivity=8).astype(np.uint8)\n",
    "    outputs = np.expand_dims(mask, -1) * inputs\n",
    "\n",
    "    return outputs\n",
    "\n",
    "\n",
    "def crop_array(image, label, up, down, left, right):\n",
    "    '''\n",
    "    image:x*y*3 uint8\n",
    "    label:x*y*3 uint8\n",
    "    '''\n",
    "    crop_image = image[up:down, left:right, :]\n",
    "    crop_label = label[up:down, left:right, :]\n",
    "\n",
    "    return crop_image, crop_label\n",
    "\n",
    "\n",
    "def count_place(base_path, file_list):\n",
    "    place = []\n",
    "    for file_name in file_list:\n",
    "        data = cv2.imdecode(\n",
    "            np.fromfile(f\"{base_path}/{file_name}\", dtype=np.uint8), -1)\n",
    "        data_gray = cv2.cvtColor(data, cv2.COLOR_RGB2GRAY)[0]\n",
    "        x_sum = np.sum(data_gray, axis=0)\n",
    "        y_sum = np.sum(data_gray, axis=1)\n",
    "\n",
    "        left = min(np.where(x_sum != 0)) - 20 if min(np.where(x_sum != 0)) > 20 else 0\n",
    "        right = max(np.where(x_sum != 0)) + 20 if min(np.where(x_sum != 0)) < data.shape[0] - 20 else data.shape[0]\n",
    "        up = min(np.where(y_sum != 0)) - 20 if min(np.where(y_sum != 0)) > 20 else 0\n",
    "        down = max(np.where(y_sum != 0)) + 20 if max(np.where(y_sum != 0)) < data.shape[1] - 20 else data.shape[1]\n",
    "\n",
    "    place.append([up, down, left, right])\n",
    "    \n",
    "    return np.array(place)\n",
    "\n",
    "\n",
    "file_path = '/Volumes/昊大侠/工作/实习相关/微创卜算子医疗科技有限公司/陈嘉懿组/数据/短轴动态狭窄率/dataset_0802'\n",
    "save_path = file_path.replace('dataset_0802', 'dataset_roi_0802')\n",
    "if not os.path.exists(save_path):\n",
    "    os.mkdir(save_path)\n",
    "for dir_path in os.listdir(file_path):\n",
    "    if dir_path == 'label':\n",
    "        label = cv2.imread(root + '/' + i)\n",
    "        image = cv2.imread(root + '/' + i.replace('label', 'image'))\n",
    "        image = cv2.resize(image.astype(np.uint8), (384, 320),\n",
    "                            cv2.INTER_CUBIC)\n",
    "        label = cv2.resize(label.astype(np.uint8), (384, 320),\n",
    "                            cv2.INTER_NEAREST)\n",
    "        crop_image, crop_label = crop_array(image, label)\n",
    "        if not os.path.exists(\n",
    "                root.replace('dataset0706', 'data_get_roi_0706')):\n",
    "            os.mkdir(root.replace('dataset0706', 'data_get_roi_0706'))\n",
    "        cv2.imencode('.png', crop_label)[-1].tofile(\n",
    "            root.replace('dataset0706', 'data_get_roi_0706') + '/' + i)\n",
    "        cv2.imencode('.png', crop_image)[-1].tofile(\n",
    "            root.replace('dataset0706', 'data_get_roi_0706') + '/' +\n",
    "            i.replace('label', 'image'))\n",
    "\n",
    "print(\"运行结束\")"
   ]
  }
 ],
 "metadata": {
  "kernelspec": {
   "display_name": "Python 3.9.12 ('tensor')",
   "language": "python",
   "name": "python3"
  },
  "language_info": {
   "codemirror_mode": {
    "name": "ipython",
    "version": 3
   },
   "file_extension": ".py",
   "mimetype": "text/x-python",
   "name": "python",
   "nbconvert_exporter": "python",
   "pygments_lexer": "ipython3",
   "version": "3.9.12"
  },
  "orig_nbformat": 4,
  "vscode": {
   "interpreter": {
    "hash": "f7567524e79b96d316162151a38259d28be4bc298929f85b9103bf7fbca02c0d"
   }
  }
 },
 "nbformat": 4,
 "nbformat_minor": 2
}