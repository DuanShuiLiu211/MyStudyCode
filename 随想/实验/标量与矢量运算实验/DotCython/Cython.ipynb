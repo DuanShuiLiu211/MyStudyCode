{
 "cells": [
  {
   "cell_type": "code",
   "execution_count": 1,
   "metadata": {
    "collapsed": false,
    "pycharm": {
     "name": "#%%\n"
    }
   },
   "outputs": [],
   "source": [
    "# 启动cython\n",
    "%load_ext Cython"
   ]
  },
  {
   "cell_type": "code",
   "execution_count": 2,
   "metadata": {},
   "outputs": [
    {
     "name": "stdout",
     "output_type": "stream",
     "text": [
      "运行总时间0.013819秒\n"
     ]
    }
   ],
   "source": [
    "%%cython\n",
    "import time\n",
    "import cython\n",
    "time_start = time.time_ns()\n",
    "def cython_div(a=1, b=2, m=int(1e6), mode=\"for\"):\n",
    "    a: cython.int = a\n",
    "    b: cython.int = b\n",
    "    m: cython.int = m\n",
    "    i: cython.int = 0\n",
    "    c: cython.int = 0\n",
    "    if mode == \"for\":\n",
    "        for i in range(m):\n",
    "            c = a / b\n",
    "    else:\n",
    "        while i < m:\n",
    "            c = a / b\n",
    "            i += 1\n",
    "    return c\n",
    "\n",
    "\n",
    "cython_div()\n",
    "time_end = time.time_ns()\n",
    "sum_time = (time_end - time_start) / 1e9\n",
    "print(f\"运行总时间{sum_time}秒\")"
   ]
  },
  {
   "cell_type": "code",
   "execution_count": 3,
   "metadata": {},
   "outputs": [
    {
     "name": "stdout",
     "output_type": "stream",
     "text": [
      "运行总时间4.851151秒\n"
     ]
    }
   ],
   "source": [
    "%%cython\n",
    "import time\n",
    "import cython\n",
    "time_start = time.time_ns()\n",
    "def cython_dot(a, b):\n",
    "    if len(a) != len(b[0]):\n",
    "        raise ValueError('shape not matched')\n",
    "    n, p, m = len(a), len(a[0]), len(b[0])\n",
    "    c = [[0 for i in range(n)] for j in range(m)]\n",
    "    for i in range(m):\n",
    "        for j in range(n):\n",
    "            s: cython.int = 0\n",
    "            for k in range(p):\n",
    "                s += a[i][k] * b[k][j]\n",
    "            c[i][j] = s\n",
    "    return c\n",
    "\n",
    "a = [[0 for i in range(1000)] for j in range(500)]\n",
    "b = [[0 for i in range(500)] for j in range(1000)]\n",
    "\n",
    "cython_dot(a, b)\n",
    "time_end = time.time_ns()\n",
    "sum_time = (time_end - time_start) / 1e9\n",
    "print(f\"运行总时间{sum_time}秒\")"
   ]
  },
  {
   "cell_type": "code",
   "execution_count": 2,
   "metadata": {
    "collapsed": false,
    "pycharm": {
     "name": "#%%\n"
    }
   },
   "outputs": [
    {
     "name": "stdout",
     "output_type": "stream",
     "text": [
      "运行总时间0.016148秒\n"
     ]
    }
   ],
   "source": [
    "%%cython\n",
    "import time\n",
    "import numpy as np\n",
    "import cython\n",
    "time_start = time.time_ns()\n",
    "\n",
    "def cython_dot(a, b):\n",
    "    a: cython.double = a\n",
    "    b: cython.double = b\n",
    "\n",
    "    c = np.matmul(a, b)\n",
    "\n",
    "    return c\n",
    "\n",
    "\n",
    "a = np.random.rand(1000, 500)\n",
    "b = np.random.rand(500, 1000)\n",
    "cython_dot(a, b)\n",
    "time_end = time.time_ns()\n",
    "sum_time = (time_end - time_start) / 1e9\n",
    "print(f\"运行总时间{sum_time}秒\")"
   ]
  },
  {
   "cell_type": "code",
   "execution_count": 9,
   "metadata": {},
   "outputs": [
    {
     "name": "stdout",
     "output_type": "stream",
     "text": [
      "运行总时间0.405842秒\n"
     ]
    }
   ],
   "source": [
    "import time\n",
    "import numpy as np\n",
    "import DotCython\n",
    "time_start = time.time_ns()\n",
    "a = np.array(np.random.rand(1000, 500), dtype=np.float32)\n",
    "b = np.array(np.random.rand(500, 1000), dtype=np.float32)\n",
    "DotCython.cython_dot(a, b)\n",
    "time_end = time.time_ns()\n",
    "sum_time = (time_end - time_start) / 1e9\n",
    "print(f\"运行总时间{sum_time}秒\")"
   ]
  }
 ],
 "metadata": {
  "interpreter": {
   "hash": "f7567524e79b96d316162151a38259d28be4bc298929f85b9103bf7fbca02c0d"
  },
  "kernelspec": {
   "display_name": "Python 3.9.12 ('tensor')",
   "language": "python",
   "name": "python3"
  },
  "language_info": {
   "codemirror_mode": {
    "name": "ipython",
    "version": 3
   },
   "file_extension": ".py",
   "mimetype": "text/x-python",
   "name": "python",
   "nbconvert_exporter": "python",
   "pygments_lexer": "ipython3",
   "version": "3.8.16"
  }
 },
 "nbformat": 4,
 "nbformat_minor": 0
}
