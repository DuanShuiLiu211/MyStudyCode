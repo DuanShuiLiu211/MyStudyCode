{
 "cells": [
  {
   "cell_type": "markdown",
   "metadata": {},
   "source": [
    "# 标准输入输出\n",
    "**标准输入**\n",
    "- ***sys.stdin***\n",
    "- ***print 等价于 sys.stdin.readline（jupyter 中只能使用 input）***\n",
    "- ***默认输入格式为字符串***\n",
    "\n",
    "**标准输出**\n",
    "- ***sys.stdout***\n",
    "- ***print 等价于 sys.stdout.write***"
   ]
  },
  {
   "cell_type": "code",
   "execution_count": null,
   "metadata": {},
   "outputs": [],
   "source": [
    "import sys\n",
    "\n",
    "print('Enter your name: ')\n",
    "name = sys.stdin.readline()\n",
    "print('Hello ', name)\n",
    "\n",
    "name = input('Enter your name: ')\n",
    "print('Hello', name + '\\n')"
   ]
  },
  {
   "cell_type": "code",
   "execution_count": 2,
   "metadata": {},
   "outputs": [
    {
     "name": "stdout",
     "output_type": "stream",
     "text": [
      "please input a number: \n"
     ]
    }
   ],
   "source": [
    "try:\n",
    "    while True:\n",
    "        print('please input a number: ')\n",
    "        n = int(sys.stdin.readline().strip())  # 返回删除前导和尾随指定的字符（默认为空格或换行符）或字符序列\n",
    "        print(n)\n",
    "        print('please input some numbers: ')\n",
    "        sn = sys.stdin.readline().strip()\n",
    "        if sn == '':\n",
    "            break\n",
    "        sn = list(map(int, sn.split()))\n",
    "        print(sn)\n",
    "except:\n",
    "    pass"
   ]
  },
  {
   "cell_type": "code",
   "execution_count": 22,
   "metadata": {},
   "outputs": [
    {
     "name": "stdout",
     "output_type": "stream",
     "text": [
      "hello world\n",
      "hello world\n"
     ]
    }
   ],
   "source": [
    "sys.stdout.write(\"hello world\\n\")\n",
    "print(\"hello world\")"
   ]
  },
  {
   "cell_type": "code",
   "execution_count": 23,
   "metadata": {},
   "outputs": [
    {
     "name": "stdout",
     "output_type": "stream",
     "text": [
      "wanghao\n",
      "恢复\n"
     ]
    }
   ],
   "source": [
    "temp = sys.stdout\n",
    "print('wanghao')  # 打印到终端\n",
    "f = open('test.txt', 'w')\n",
    "sys.stdout = f  # 让print函数将内容打印到test.txt文件中\n",
    "print('hello')  # 打印到文件中\n",
    "sys.stdout = temp  # 恢复print函数打印到终端上\n",
    "print('恢复')  # 打印到终端\n",
    "f.close()"
   ]
  }
 ],
 "metadata": {
  "kernelspec": {
   "display_name": "Python 3.9.12 ('tensor')",
   "language": "python",
   "name": "python3"
  },
  "language_info": {
   "codemirror_mode": {
    "name": "ipython",
    "version": 3
   },
   "file_extension": ".py",
   "mimetype": "text/x-python",
   "name": "python",
   "nbconvert_exporter": "python",
   "pygments_lexer": "ipython3",
   "version": "3.9.12"
  },
  "orig_nbformat": 4,
  "vscode": {
   "interpreter": {
    "hash": "f7567524e79b96d316162151a38259d28be4bc298929f85b9103bf7fbca02c0d"
   }
  }
 },
 "nbformat": 4,
 "nbformat_minor": 2
}
