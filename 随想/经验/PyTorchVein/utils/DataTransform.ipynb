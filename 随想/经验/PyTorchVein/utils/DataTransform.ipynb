{
 "cells": [
  {
   "cell_type": "code",
   "execution_count": 1,
   "metadata": {
    "pycharm": {
     "name": "#%%\n"
    }
   },
   "outputs": [],
   "source": [
    "from torchvision import transforms\n",
    "import numpy as np\n",
    "\n",
    "img = np.random.rand(3, 128, 128)"
   ]
  },
  {
   "cell_type": "markdown",
   "metadata": {
    "pycharm": {
     "name": "#%% md\n"
    }
   },
   "source": [
    "## 1. ToTensor()      \n",
    "- PIL或者numpy.ndarry的图像类型转变成tensor的类型格式"
   ]
  },
  {
   "cell_type": "code",
   "execution_count": null,
   "metadata": {
    "pycharm": {
     "name": "#%%\n"
    }
   },
   "outputs": [],
   "source": [
    "transform_totensor = transforms.ToTensor()  # 用tensor_tans接收ToTensor对象\n",
    "tensor_img = transform_totensor(img)  # 将img转变成tensoe格式，直接调用了内置call方法"
   ]
  },
  {
   "cell_type": "markdown",
   "metadata": {
    "pycharm": {
     "name": "#%% md\n"
    }
   },
   "source": [
    "## 2. Normalize()\n",
    "- 将图片进行归一化，归一化的好处有很多比如有的图片特征之间差异性很大，我们可以使用这种方法让图片变得归一化之后便于训练\n"
   ]
  },
  {
   "cell_type": "code",
   "execution_count": null,
   "metadata": {
    "pycharm": {
     "name": "#%%\n"
    }
   },
   "outputs": [],
   "source": [
    "trans_norm = transforms.Normalize([1, 2, 3], [3, 2, 1])  # 将Normalize类传入方差进行初始化并且赋给对象，因为是RGB三通道的\n",
    "norm_img = trans_norm(tensor_img)  # 进行归一化操作,这里默认直接利用参数调用了内置forward方法"
   ]
  },
  {
   "cell_type": "markdown",
   "metadata": {
    "pycharm": {
     "name": "#%% md\n"
    }
   },
   "source": [
    "## 3. Resize\n",
    "- 输入一张图片，将图片转变为指定的大小。如果只传入一个参数，就将最小边变成size，最大边等比例变成原来最小边的倍数"
   ]
  },
  {
   "cell_type": "code",
   "execution_count": null,
   "metadata": {
    "pycharm": {
     "name": "#%%\n"
    }
   },
   "outputs": [],
   "source": [
    "transform_resize = transforms.Resize((512, 512))\n",
    "resize_img = transform_resize(img)\n",
    "\n",
    "# Compose 流水线的工作方式，对参数中的transform模块进行遍历执行\n",
    "transform_conpose = transforms.Compose([transform_resize, transform_totensor])\n",
    "imageresize = transform_conpose(resize_img)"
   ]
  },
  {
   "cell_type": "markdown",
   "metadata": {
    "pycharm": {
     "name": "#%% md\n"
    }
   },
   "source": [
    "## 4. RandomCrop()\n",
    "- 对图片进行指定裁剪，不会进行等比例变化"
   ]
  },
  {
   "cell_type": "code",
   "execution_count": null,
   "metadata": {
    "pycharm": {
     "name": "#%%\n"
    }
   },
   "outputs": [],
   "source": [
    "# randomcrop对输入的一张图片进行随机裁剪，裁剪大小的高和宽只设置为自己想要的\n",
    "transform_randomcrop = transforms.RandomCrop(520, 520)\n",
    "# 随机裁剪10次\n",
    "for i in range (10):\n",
    "    transform_conpose = transforms.Compose([transform_randomcrop, transform_totensor])\n",
    "    randomcrop_img = transform_conpose(img)"
   ]
  },
  {
   "cell_type": "code",
   "execution_count": 20,
   "metadata": {
    "pycharm": {
     "name": "#%%\n"
    }
   },
   "outputs": [
    {
     "data": {
      "text/plain": [
       "0"
      ]
     },
     "execution_count": 20,
     "metadata": {},
     "output_type": "execute_result"
    }
   ],
   "source": [
    "np.random.randint(0, 1)"
   ]
  }
 ],
 "metadata": {
  "kernelspec": {
   "display_name": "Python 3.9.12 ('tensor')",
   "language": "python",
   "name": "python3"
  },
  "language_info": {
   "codemirror_mode": {
    "name": "ipython",
    "version": 3
   },
   "file_extension": ".py",
   "mimetype": "text/x-python",
   "name": "python",
   "nbconvert_exporter": "python",
   "pygments_lexer": "ipython3",
   "version": "3.9.12"
  },
  "orig_nbformat": 4,
  "vscode": {
   "interpreter": {
    "hash": "f7567524e79b96d316162151a38259d28be4bc298929f85b9103bf7fbca02c0d"
   }
  }
 },
 "nbformat": 4,
 "nbformat_minor": 2
}