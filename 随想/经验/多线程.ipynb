{
 "cells": [
  {
   "cell_type": "markdown",
   "metadata": {},
   "source": [
    "# Python多线程\n",
    "## GIL 全局解释器锁\n",
    "在其他编程环境中，一般对于单核处理器，同时只能有一个任务执行。多核时可以支持多个线程同时执行。但是在 python 中，无论有多少个核同时只能执行一个线程\n",
    "- 究其原因，这就是由于 GIL 的存在导致的。GIL 的全程是全局解释器，来源是 python 设计之初的考虑，为了数据安全所做的决定。某个线程想要执行，必须先拿到 GIL，我们可以把 GIL 看做是“通行证”，并且在一个 python 进程之中，GIL 只有一个。拿不到线程的通行证，就不允许进入 CPU 执行\n",
    "\n",
    "- GIL 只在 cpython 中才有，因为 cpython 调用的是 c 语言的原生线程，所以他不能直接操作 cpu，而只能利用GIL 保证同一时间只能有一个线程拿到数据。而其他解释器如 pypy 和 jpython 中没有 GIL\n",
    "\n",
    "python 多线程对 CPU 密集型与 IO 密集型的代码执行效率是不同的，因为在执行 IO 密集型代码的过程中多线程切换的主要代价是 IO 切换而执行 CPU 密集型代码多线程切换的主要代价是时间切换，通常 IO 切换比时间切换耗时更长\n",
    "\n",
    "- CPU 密集型代码（各种循环处理、计算等）在这种情况下，由于计算工作多，每个线程都是执行满 100 tick 后再发出 GIL 的释放与再竞争，所以和单线程跑没啥区别，而且线程切换也需要时间，所以 python 下的多线程对 CPU 密集型代码并不友好\n",
    "        \n",
    "- IO 密集型代码（文件处理、网络爬虫等频繁文件读写）多线程能够有效提升效率，单线程下 IO 操作会进入 IO 等待，造成不必要的时间浪费，而开启多线程能在线程 A 等待时，自动切换到线程 B，可以不浪费 CPU 的资源，最终效果类似真正的多线程，在 IO 上节省的时间超过在线程切换消耗的时间，因此能提升程序的执行效率，所以 python 的多线程对 IO 密集型代码比较友好\n",
    "\n"
   ]
  },
  {
   "cell_type": "code",
   "execution_count": 1,
   "metadata": {},
   "outputs": [],
   "source": [
    "import os\n",
    "import time\n",
    "import threading"
   ]
  },
  {
   "cell_type": "markdown",
   "metadata": {},
   "source": [
    "## 1、普通创建方式"
   ]
  },
  {
   "cell_type": "code",
   "execution_count": 2,
   "metadata": {},
   "outputs": [
    {
     "name": "stdout",
     "output_type": "stream",
     "text": [
      "task t1\n",
      "task t2\n"
     ]
    },
    {
     "name": "stdout",
     "output_type": "stream",
     "text": [
      "2s\n",
      "2s\n",
      "1s1s\n",
      "\n",
      "0s0s\n",
      "\n"
     ]
    }
   ],
   "source": [
    "def run(n):\n",
    "    print('task',n)\n",
    "    time.sleep(1)\n",
    "    print('2s')\n",
    "    time.sleep(1)\n",
    "    print('1s')\n",
    "    time.sleep(1)\n",
    "    print('0s')\n",
    "    time.sleep(1)\n",
    "\n",
    "if __name__ == '__main__':\n",
    "    # target 是要执行的函数对象名，args 是函数对应的参数，以元组的形式存在\n",
    "    t1 = threading.Thread(target=run, args=('t1',))\n",
    "    t2 = threading.Thread(target=run, args=('t2',))\n",
    "    t1.start()\n",
    "    t2.start()\n"
   ]
  },
  {
   "cell_type": "markdown",
   "metadata": {},
   "source": [
    "## 2、自定义线程\n",
    "- 继承 threading.Thread 来定义线程类，其本质是重构 Thread 类中的 run 方法\n"
   ]
  },
  {
   "cell_type": "code",
   "execution_count": null,
   "metadata": {},
   "outputs": [],
   "source": [
    "class MyThread(threading.Thread):\n",
    "    def __init__(self, n):\n",
    "        super(MyThread, self).__init__()\n",
    "        self.n = n\n",
    "\n",
    "    # 线程启动函数 run 必须写\n",
    "    def run(self):\n",
    "        print('task', self.n)\n",
    "        time.sleep(1)\n",
    "        print('2s')\n",
    "        time.sleep(1)\n",
    "        print('1s')\n",
    "        time.sleep(1)\n",
    "        print('0s')\n",
    "        time.sleep(1)\n",
    "\n",
    "if __name__ == '__main__':\n",
    "    t1 = MyThread('t1')\n",
    "    t2 = MyThread('t2')\n",
    "    t1.start()\n",
    "    t2.start()"
   ]
  },
  {
   "cell_type": "markdown",
   "metadata": {},
   "source": [
    "## 3、守护线程\n",
    "\n",
    "- 使用 setDaemon(True) 把所有的子线程都变成了主线程的守护线程，因此当主线程结束后，子线程也会随之结束，所以当主线程结束后，整个程序就退出了\n",
    "\n",
    "- 所谓’线程守护’，就是主线程不管守护线程的执行情况，只要是其他非守护线程结束且主线程执行完毕，主线程都会关闭。也就是说:主线程不等待守护线程的执行完再去关闭\n",
    "\n",
    "- 主线程在其他非守护线程运行完毕后才算运行完毕（守护线程在此时就被回收）。因为主线程的结束意味着进程的结束，进程整体的资源都将被回收，而进程必须保证非守护线程都运行完毕后才能结束"
   ]
  },
  {
   "cell_type": "code",
   "execution_count": 4,
   "metadata": {},
   "outputs": [
    {
     "name": "stdout",
     "output_type": "stream",
     "text": [
      "start\n",
      "task t1\n",
      "end\n"
     ]
    },
    {
     "name": "stdout",
     "output_type": "stream",
     "text": [
      "3s\n",
      "2s\n",
      "1s\n"
     ]
    }
   ],
   "source": [
    "def run(n):\n",
    "    print('task', n)\n",
    "    time.sleep(1)\n",
    "    print('3s')\n",
    "    time.sleep(1)\n",
    "    print('2s')\n",
    "    time.sleep(1)\n",
    "    print('1s')\n",
    "\n",
    "if __name__ == '__main__':\n",
    "    t = threading.Thread(target=run, args=('t1',))\n",
    "    # 通过执行结果可以看出，设置守护线程之后，当主线程结束时，子线程也将立即结束，不再执行\n",
    "    t.setDaemon(True)\n",
    "    print('start')\n",
    "    t.start()\n",
    "    print('end')"
   ]
  },
  {
   "cell_type": "markdown",
   "metadata": {},
   "source": [
    "## 4、让守护线程执行结束之后，主线程再结束\n",
    "- 我们可以使用 join 方法，让主线程等待守护线程执行完毕再结束"
   ]
  },
  {
   "cell_type": "code",
   "execution_count": 5,
   "metadata": {},
   "outputs": [
    {
     "name": "stdout",
     "output_type": "stream",
     "text": [
      "start\n",
      "task t1\n",
      "5s\n",
      "3s\n",
      "1s\n",
      "end\n"
     ]
    }
   ],
   "source": [
    "def run(n):\n",
    "    print('task', n)\n",
    "    time.sleep(2)\n",
    "    print('5s')\n",
    "    time.sleep(2)\n",
    "    print('3s')\n",
    "    time.sleep(2)\n",
    "    print('1s')\n",
    "    \n",
    "\n",
    "if __name__ == '__main__':\n",
    "    t=threading.Thread(target=run, args=('t1',))\n",
    "    # 把子线程设置为守护线程，必须在 start() 之前设置\n",
    "    t.setDaemon(True)\n",
    "    print('start')\n",
    "    t.start()\n",
    "    # 设置主线程等待子线程结束\n",
    "    t.join()\n",
    "    print('end')"
   ]
  },
  {
   "cell_type": "markdown",
   "metadata": {},
   "source": [
    "## 5、多线程共享全局变量\n",
    "- 线程是进程的执行单元，进程是系统分配资源的最小执行单位，所以在同一个进程中的多线程是共享资源的"
   ]
  },
  {
   "cell_type": "code",
   "execution_count": 6,
   "metadata": {},
   "outputs": [
    {
     "name": "stdout",
     "output_type": "stream",
     "text": [
      "in work1 g_num is : 103\n",
      "in work2 g_num is : 103\n"
     ]
    }
   ],
   "source": [
    "g_num = 100\n",
    "def work1():\n",
    "    global g_num\n",
    "    for i in range(3):\n",
    "        g_num += 1\n",
    "    print('in work1 g_num is : %d' % g_num)\n",
    "\n",
    "\n",
    "def work2():\n",
    "    global g_num\n",
    "    print('in work2 g_num is : %d' % g_num)\n",
    "\n",
    "\n",
    "if __name__ == '__main__':\n",
    "    t1 = threading.Thread(target=work1)\n",
    "    t1.start()\n",
    "    time.sleep(1)\n",
    "    t2=threading.Thread(target=work2)\n",
    "    t2.start()"
   ]
  },
  {
   "cell_type": "markdown",
   "metadata": {},
   "source": [
    "## 6、互斥锁（Lock）\n",
    "- 由于线程之间是进行随机调度，当多个线程同时修改同一条数据时可能会出现脏数据，所以出现了线程锁，即同一时刻只允许一个线程执行某些操作\n",
    "\n",
    "- 线程锁用于锁定资源，可以定义多个锁，像下面的代码，当需要独占某一个资源时，任何一个锁都可以锁定这个资源，就好比你用不同的锁都可以把这个相同的门锁住一样\n",
    "\n",
    "- 由于线程之间是进行随机调度的，如果有多个线程同时操作一个对象，如果没有很好地保护该对象，会造成程序结果的不可预期，也称为“线程不安全”，为了防止上面情况的发生，就出现了互斥锁（Lock）"
   ]
  },
  {
   "cell_type": "code",
   "execution_count": null,
   "metadata": {},
   "outputs": [],
   "source": [
    "def work():\n",
    "    global n\n",
    "    lock.acquire()\n",
    "    temp = n\n",
    "    time.sleep(0.1)\n",
    "    n = temp - 1\n",
    "    lock.release()\n",
    "\n",
    "\n",
    "if __name__ == '__main__':\n",
    "    lock = threading.Lock()\n",
    "    n = 100\n",
    "    l = []\n",
    "    for i in range(100):\n",
    "        p = threading.Thread(target=work)\n",
    "        l.append(p)\n",
    "        p.start()\n",
    "    for p in l:\n",
    "        p.join()"
   ]
  },
  {
   "cell_type": "markdown",
   "metadata": {},
   "source": [
    "## 7、递归锁：RLcok类的用法和Lock类一模一样，但它支持嵌套。\n",
    "\n",
    "- RLock 类代表可重入锁（Reentrant Lock）。对于可重入锁，在同一个线程中可以对它进行多次锁定，也可以多次释放。如果使用 RLock，那么 acquire() 和 release() 方法必须成对出现。如果调用了 n 次 acquire() 加锁，则必须调用 n 次 release() 才能释放锁\n",
    "\n",
    "- 由此可见，RLock 锁具有可重入性。也就是说，同一个线程可以对已被加锁的 RLock 锁再次加锁，RLock 对象会维持一个计数器来追踪 acquire() 方法的嵌套调用，线程在每次调用 acquire() 加锁后，都必须显式调用 release() 方法来释放锁。所以，一段被锁保护的方法可以调用另一个被相同锁保护的方法\n"
   ]
  },
  {
   "cell_type": "code",
   "execution_count": null,
   "metadata": {},
   "outputs": [],
   "source": [
    "def func(lock):\n",
    "    global gl_num\n",
    "    lock.acquire()\n",
    "    gl_num += 1\n",
    "    time.sleep(1)\n",
    "    print(gl_num)\n",
    "    lock.release()\n",
    "\n",
    "\n",
    "if __name__ == '__main__':\n",
    "    gl_num = 0\n",
    "    lock = threading.RLock()\n",
    "    for i in range(10):\n",
    "        t = threading.Thread(target=func, args=(lock,))\n",
    "        t.start()\n"
   ]
  },
  {
   "cell_type": "markdown",
   "metadata": {},
   "source": [
    "## 8、信号量（BoundedSemaphore类）\n",
    "- 互斥锁同时只允许一个线程更改数据，而 Semaphore 是同时允许一定数量的线程更改数据，比如厕所有 3 个坑，那最多只允许 3 个人上厕所，后面的人只能等里面有人出来了才能再进去\n"
   ]
  },
  {
   "cell_type": "code",
   "execution_count": null,
   "metadata": {},
   "outputs": [],
   "source": [
    "def run(n,semaphore):\n",
    "    # 加锁\n",
    "    semaphore.acquire()\n",
    "    time.sleep(3)\n",
    "    print('run the thread:%s\\n' % n)\n",
    "    # 释放\n",
    "    semaphore.release()\n",
    "\n",
    "\n",
    "if __name__== '__main__':\n",
    "    num = 0\n",
    "    # 最多允许 5 个线程同时运行\n",
    "    semaphore = threading.BoundedSemaphore(5)\n",
    "    for i in range(22):\n",
    "        t = threading.Thread(target=run, args=('t-%s' % i, semaphore))\n",
    "        t.start()\n",
    "    while threading.active_count() !=1:\n",
    "        pass\n",
    "    else:\n",
    "        print('----------all threads done-----------')\n"
   ]
  },
  {
   "cell_type": "markdown",
   "metadata": {},
   "source": [
    "## 9、python线程事件\n",
    "用于主线程控制其他线程的执行，事件是一个简单的线程同步对象，其主要提供以下的几个方法：\n",
    "- clear 将flag设置为 False\n",
    "- set 将 flag 设置为 True\n",
    "- is_set 判断是否设置了 flag\n",
    "- wait 会一直监听 flag，如果没有检测到 flag 就一直处于阻塞状态\n",
    "- 事件处理的机制：全局定义了一个 flag，\n",
    "- 当 flag 的值为 False，那么 event.wait() 就会阻塞，\n",
    "- 当 flag 值为 True，那么 event.wait() 便不再阻塞\n"
   ]
  },
  {
   "cell_type": "code",
   "execution_count": null,
   "metadata": {},
   "outputs": [],
   "source": [
    "event = threading.Event()\n",
    "\n",
    "def lighter():\n",
    "    count = 0\n",
    "    # 初始，设置为绿灯\n",
    "    event.set()\n",
    "    while True:\n",
    "        if 5 < count <= 10:\n",
    "            # 红灯，清除标志位\n",
    "            event.clear()\n",
    "            print(\"\\33[41;lmred light is on...\\033[0m]\")\n",
    "        elif count > 10:\n",
    "            # 绿灯，设置标志位\n",
    "            event.set()\n",
    "            count = 0\n",
    "        else:\n",
    "            print('\\33[42;lmgreen light is on...\\033[0m')\n",
    "\n",
    "        time.sleep(1)\n",
    "        count += 1\n",
    "\n",
    "\n",
    "def car(name):\n",
    "    while True:\n",
    "        # 判断是否设置了标志位\n",
    "        if event.is_set():\n",
    "            print('[%s] running.....' % name)\n",
    "            time.sleep(1)\n",
    "        else:\n",
    "            print('[%s] sees red light,waiting...' % name)\n",
    "            event.wait()\n",
    "            print('[%s] green light is on,start going...' % name)\n",
    "\n",
    "\n",
    "startTime = time.time()\n",
    "light = threading.Thread(target=lighter, )\n",
    "light.start()\n",
    "\n",
    "car = threading.Thread(target=car, args=('MINT', ))\n",
    "car.start()\n",
    "endTime = time.time()\n",
    "print('用时：', endTime-startTime)"
   ]
  }
 ],
 "metadata": {
  "kernelspec": {
   "display_name": "Python 3.9.12 ('tensor')",
   "language": "python",
   "name": "python3"
  },
  "language_info": {
   "codemirror_mode": {
    "name": "ipython",
    "version": 3
   },
   "file_extension": ".py",
   "mimetype": "text/x-python",
   "name": "python",
   "nbconvert_exporter": "python",
   "pygments_lexer": "ipython3",
   "version": "3.9.12"
  },
  "orig_nbformat": 4,
  "vscode": {
   "interpreter": {
    "hash": "f7567524e79b96d316162151a38259d28be4bc298929f85b9103bf7fbca02c0d"
   }
  }
 },
 "nbformat": 4,
 "nbformat_minor": 2
}
