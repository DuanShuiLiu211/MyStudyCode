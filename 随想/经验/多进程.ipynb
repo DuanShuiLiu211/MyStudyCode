{
 "cells": [
  {
   "cell_type": "markdown",
   "metadata": {},
   "source": [
    "# Python多进程"
   ]
  },
  {
   "cell_type": "code",
   "execution_count": 23,
   "metadata": {},
   "outputs": [],
   "source": [
    "import os\n",
    "import time\n",
    "from multiprocessing import Process, Pool"
   ]
  },
  {
   "cell_type": "markdown",
   "metadata": {},
   "source": [
    "## os.fork()\n",
    "- 只用在 Unix 系统中有效，Windows 系统中无效\n",
    "- fork 函数调用一次，返回两次，在父进程中返回值为子进程 id，在子进程中返回值为 0"
   ]
  },
  {
   "cell_type": "code",
   "execution_count": null,
   "metadata": {},
   "outputs": [
    {
     "name": "stdout",
     "output_type": "stream",
     "text": [
      "执行父进程，子进程pid=17021，父进程ppid=16995\n",
      "执行子进程，子进程pid=17021，父进程ppid=16995"
     ]
    },
    {
     "name": "stdout",
     "output_type": "stream",
     "text": [
      "\n"
     ]
    }
   ],
   "source": [
    "pid = os.fork()\n",
    "if pid == 0:\n",
    "    print(\"执行子进程，子进程pid={pid}，父进程ppid={ppid}\".format(pid=os.getpid(),\n",
    "                                                              ppid=os.getppid()))\n",
    "else:\n",
    "    print(\"执行父进程，子进程pid={pid}，父进程ppid={ppid}\".format(pid=pid,\n",
    "                                                              ppid=os.getpid()))"
   ]
  },
  {
   "cell_type": "markdown",
   "metadata": {},
   "source": [
    "## multiprocessing \n",
    "创建 Process 的实例，传入任务执行函数作为参数\n",
    "- name，进程名\n",
    "- pid，进程id\n",
    "- run()，自定义子类时覆写\n",
    "- start()，开启进程\n",
    "- join(timeout=None)，阻塞进程等待子进程完成才能结束\n",
    "- terminate()，终止进程\n",
    "- is_alive()，判断进程是否存活"
   ]
  },
  {
   "cell_type": "code",
   "execution_count": 12,
   "metadata": {},
   "outputs": [
    {
     "name": "stdout",
     "output_type": "stream",
     "text": [
      "主进程执行中>>> pid=16995\n",
      "子进程执行中>>> pid=16995,ppid=10522\n",
      "子进程终止>>> pid=16995\n",
      "子进程执行中>>> pid=16995,ppid=10522\n",
      "子进程终止>>> pid=16995\n",
      "主进程终止\n"
     ]
    }
   ],
   "source": [
    "def worker():\n",
    "    print(\"子进程执行中>>> pid={0}，ppid={1}\".format(os.getpid(), os.getppid()))\n",
    "    time.sleep(2)\n",
    "    print(\"子进程终止>>> pid={0}\".format(os.getpid()))\n",
    "\n",
    "\n",
    "def main():\n",
    "    print(\"主进程执行中>>> pid={0}\".format(os.getpid()))\n",
    "    ps = []\n",
    "    # 创建子进程实例\n",
    "    for i in range(2):\n",
    "        p = Process(target=worker(), name=\"worker\" + str(i), args=())\n",
    "        ps.append(p)\n",
    "    # 开启进程\n",
    "    for i in range(2):\n",
    "        ps[i].start()\n",
    "    # 阻塞进程\n",
    "    for i in range(2):\n",
    "        ps[i].join()\n",
    "    print(\"主进程终止\")\n",
    "\n",
    "\n",
    "if __name__ == '__main__':\n",
    "    main()"
   ]
  },
  {
   "cell_type": "code",
   "execution_count": null,
   "metadata": {},
   "outputs": [],
   "source": [
    "class MyProcess(Process):\n",
    "\n",
    "    def __init__(self):\n",
    "        Process.__init__(self)\n",
    "\n",
    "    def run(self):\n",
    "        print(\"子进程开始>>> pid={0}，ppid={1}\".format(os.getpid(), os.getppid()))\n",
    "        time.sleep(2)\n",
    "        print(\"子进程终止>>> pid={}\".format(os.getpid()))\n",
    "\n",
    "\n",
    "def main():\n",
    "    print(\"主进程开始>>> pid={}\".format(os.getpid()))\n",
    "    myp = MyProcess()\n",
    "    myp.start()\n",
    "    myp.join()\n",
    "    print(\"主进程终止\")\n",
    "\n",
    "\n",
    "if __name__ == '__main__':\n",
    "    main()"
   ]
  },
  {
   "cell_type": "code",
   "execution_count": null,
   "metadata": {},
   "outputs": [],
   "source": [
    "def worker(arg):\n",
    "  print(\"子进程开始执行>>> pid={}，ppid={}，编号{}\".format(os.getpid(), os.getppid(), arg))\n",
    "  time.sleep(0.5)\n",
    "  print(\"子进程终止>>> pid={}，ppid={}，编号{}\".format(os.getpid(), os.getppid(), arg))\n",
    "\n",
    "\n",
    "def main():\n",
    "  print(\"主进程开始执行>>> pid={}\".format(os.getpid()))\n",
    "  ps = Pool(5)\n",
    "  for i in range(10):\n",
    "    # ps.apply(worker, args=(i,))     # 同步执行\n",
    "    ps.apply_async(worker, args=(i,)) # 异步执行\n",
    "  # 关闭进程池，停止接受其它进程\n",
    "  ps.close()\n",
    "  # 阻塞进程\n",
    "  ps.join()\n",
    "  print(\"主进程终止\")\n",
    "  \n",
    "  \n",
    "if __name__ == '__main__':\n",
    "  main()"
   ]
  }
 ],
 "metadata": {
  "kernelspec": {
   "display_name": "Python 3.9.12 ('tensor')",
   "language": "python",
   "name": "python3"
  },
  "language_info": {
   "codemirror_mode": {
    "name": "ipython",
    "version": 3
   },
   "file_extension": ".py",
   "mimetype": "text/x-python",
   "name": "python",
   "nbconvert_exporter": "python",
   "pygments_lexer": "ipython3",
   "version": "3.9.12"
  },
  "orig_nbformat": 4,
  "vscode": {
   "interpreter": {
    "hash": "f7567524e79b96d316162151a38259d28be4bc298929f85b9103bf7fbca02c0d"
   }
  }
 },
 "nbformat": 4,
 "nbformat_minor": 2
}
