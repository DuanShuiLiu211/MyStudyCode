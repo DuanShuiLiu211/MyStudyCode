{
 "cells": [
  {
   "cell_type": "code",
   "execution_count": null,
   "metadata": {},
   "outputs": [],
   "source": [
    "import os\n",
    "\n",
    "os.path.abspath(os.path.join(os.getcwd(), \"../..\"))"
   ]
  },
  {
   "cell_type": "code",
   "execution_count": 1,
   "metadata": {},
   "outputs": [
    {
     "name": "stdout",
     "output_type": "stream",
     "text": [
      "Running on local URL:  http://127.0.0.1:7860\n",
      "\n",
      "To create a public link, set `share=True` in `launch()`.\n"
     ]
    },
    {
     "data": {
      "text/html": [
       "<div><iframe src=\"http://127.0.0.1:7860/\" width=\"100%\" height=\"500\" allow=\"autoplay; camera; microphone; clipboard-read; clipboard-write;\" frameborder=\"0\" allowfullscreen></iframe></div>"
      ],
      "text/plain": [
       "<IPython.core.display.HTML object>"
      ]
     },
     "metadata": {},
     "output_type": "display_data"
    },
    {
     "data": {
      "text/plain": []
     },
     "execution_count": 1,
     "metadata": {},
     "output_type": "execute_result"
    },
    {
     "name": "stderr",
     "output_type": "stream",
     "text": [
      "Traceback (most recent call last):\n",
      "  File \"/opt/homebrew/Caskroom/miniconda/base/envs/openai/lib/python3.8/site-packages/gradio/routes.py\", line 384, in run_predict\n",
      "    output = await app.get_blocks().process_api(\n",
      "  File \"/opt/homebrew/Caskroom/miniconda/base/envs/openai/lib/python3.8/site-packages/gradio/blocks.py\", line 1027, in process_api\n",
      "    data = self.postprocess_data(fn_index, result[\"prediction\"], state)\n",
      "  File \"/opt/homebrew/Caskroom/miniconda/base/envs/openai/lib/python3.8/site-packages/gradio/blocks.py\", line 964, in postprocess_data\n",
      "    prediction_value = block.postprocess(prediction_value)\n",
      "  File \"/opt/homebrew/Caskroom/miniconda/base/envs/openai/lib/python3.8/site-packages/gradio/components.py\", line 5248, in postprocess\n",
      "    return self.md.render(unindented_y)\n",
      "  File \"/opt/homebrew/Caskroom/miniconda/base/envs/openai/lib/python3.8/site-packages/markdown_it/main.py\", line 267, in render\n",
      "    return self.renderer.render(self.parse(src, env), self.options, env)\n",
      "  File \"/opt/homebrew/Caskroom/miniconda/base/envs/openai/lib/python3.8/site-packages/markdown_it/renderer.py\", line 87, in render\n",
      "    result += self.renderInline(token.children, options, env)\n",
      "  File \"/opt/homebrew/Caskroom/miniconda/base/envs/openai/lib/python3.8/site-packages/markdown_it/renderer.py\", line 108, in renderInline\n",
      "    result += self.rules[token.type](tokens, i, options, env)\n",
      "  File \"/opt/homebrew/Caskroom/miniconda/base/envs/openai/lib/python3.8/site-packages/mdit_py_plugins/dollarmath/index.py\", line 70, in render_math_inline\n",
      "    content = _renderer(str(tokens[idx].content).strip(), {\"display_mode\": False})\n",
      "  File \"/opt/homebrew/Caskroom/miniconda/base/envs/openai/lib/python3.8/site-packages/gradio/utils.py\", line 872, in tex2svg\n",
      "    fig.savefig(\n",
      "  File \"/opt/homebrew/Caskroom/miniconda/base/envs/openai/lib/python3.8/site-packages/matplotlib/figure.py\", line 3328, in savefig\n",
      "    self.canvas.print_figure(fname, **kwargs)\n",
      "  File \"/opt/homebrew/Caskroom/miniconda/base/envs/openai/lib/python3.8/site-packages/matplotlib/backend_bases.py\", line 2338, in print_figure\n",
      "    self.figure.draw(renderer)\n",
      "  File \"/opt/homebrew/Caskroom/miniconda/base/envs/openai/lib/python3.8/site-packages/matplotlib/artist.py\", line 95, in draw_wrapper\n",
      "    result = draw(artist, renderer, *args, **kwargs)\n",
      "  File \"/opt/homebrew/Caskroom/miniconda/base/envs/openai/lib/python3.8/site-packages/matplotlib/artist.py\", line 72, in draw_wrapper\n",
      "    return draw(artist, renderer)\n",
      "  File \"/opt/homebrew/Caskroom/miniconda/base/envs/openai/lib/python3.8/site-packages/matplotlib/figure.py\", line 3125, in draw\n",
      "    mimage._draw_list_compositing_images(\n",
      "  File \"/opt/homebrew/Caskroom/miniconda/base/envs/openai/lib/python3.8/site-packages/matplotlib/image.py\", line 131, in _draw_list_compositing_images\n",
      "    a.draw(renderer)\n",
      "  File \"/opt/homebrew/Caskroom/miniconda/base/envs/openai/lib/python3.8/site-packages/matplotlib/artist.py\", line 72, in draw_wrapper\n",
      "    return draw(artist, renderer)\n",
      "  File \"/opt/homebrew/Caskroom/miniconda/base/envs/openai/lib/python3.8/site-packages/matplotlib/text.py\", line 752, in draw\n",
      "    bbox, info, descent = self._get_layout(renderer)\n",
      "  File \"/opt/homebrew/Caskroom/miniconda/base/envs/openai/lib/python3.8/site-packages/matplotlib/text.py\", line 386, in _get_layout\n",
      "    w, h, d = _get_text_metrics_with_cache(\n",
      "  File \"/opt/homebrew/Caskroom/miniconda/base/envs/openai/lib/python3.8/site-packages/matplotlib/text.py\", line 97, in _get_text_metrics_with_cache\n",
      "    return _get_text_metrics_with_cache_impl(\n",
      "  File \"/opt/homebrew/Caskroom/miniconda/base/envs/openai/lib/python3.8/site-packages/matplotlib/text.py\", line 105, in _get_text_metrics_with_cache_impl\n",
      "    return renderer_ref().get_text_width_height_descent(text, fontprop, ismath)\n",
      "  File \"/opt/homebrew/Caskroom/miniconda/base/envs/openai/lib/python3.8/site-packages/matplotlib/backends/backend_svg.py\", line 1317, in get_text_width_height_descent\n",
      "    return self._text2path.get_text_width_height_descent(s, prop, ismath)\n",
      "  File \"/opt/homebrew/Caskroom/miniconda/base/envs/openai/lib/python3.8/site-packages/matplotlib/textpath.py\", line 60, in get_text_width_height_descent\n",
      "    self.mathtext_parser.parse(s, 72, prop)\n",
      "  File \"/opt/homebrew/Caskroom/miniconda/base/envs/openai/lib/python3.8/site-packages/matplotlib/mathtext.py\", line 226, in parse\n",
      "    return self._parse_cached(s, dpi, prop)\n",
      "  File \"/opt/homebrew/Caskroom/miniconda/base/envs/openai/lib/python3.8/site-packages/matplotlib/mathtext.py\", line 247, in _parse_cached\n",
      "    box = self._parser.parse(s, fontset, fontsize, dpi)\n",
      "  File \"/opt/homebrew/Caskroom/miniconda/base/envs/openai/lib/python3.8/site-packages/matplotlib/_mathtext.py\", line 1995, in parse\n",
      "    raise ValueError(\"\\n\" + ParseException.explain(err, 0)) from None\n",
      "ValueError: \n",
      "\\sqrt{}\n",
      "     ^\n",
      "ParseSyntaxException: Expected \\sqrt{value}, found '{'  (at char 5), (line:1, col:6)\n"
     ]
    }
   ],
   "source": [
    "import gradio as gr\n",
    "def show_text(x):\n",
    "  return x\n",
    "demo = gr.Blocks()\n",
    "with demo:\n",
    "  with gr.Column():\n",
    "      load_btn = gr.Button(\"导入\")\n",
    "  output = gr.Markdown(\"\"\" # Show text! Start typing below to see the output. \"\"\")\n",
    "  input = gr.Textbox(placeholder=\"Type a formula\")\n",
    "  # input.change(fn=show_text, inputs=input, outputs=output)\n",
    "  load_btn.click(fn=show_text, inputs=input, outputs=output)\n",
    "demo.launch()"
   ]
  },
  {
   "cell_type": "code",
   "execution_count": null,
   "metadata": {},
   "outputs": [],
   "source": [
    "import gradio as gr \n",
    "import datetime \n",
    "with gr.Blocks() as demo:\n",
    "    def get_time():\n",
    "        return datetime.datetime.now().time()\n",
    "    dt = gr.Textbox(label=\"Current time\") \n",
    "    demo.load(get_time, inputs=None, outputs=dt)\n",
    "demo.launch()"
   ]
  }
 ],
 "metadata": {
  "kernelspec": {
   "display_name": "openai",
   "language": "python",
   "name": "python3"
  },
  "language_info": {
   "codemirror_mode": {
    "name": "ipython",
    "version": 3
   },
   "file_extension": ".py",
   "mimetype": "text/x-python",
   "name": "python",
   "nbconvert_exporter": "python",
   "pygments_lexer": "ipython3",
   "version": "3.8.16"
  },
  "orig_nbformat": 4
 },
 "nbformat": 4,
 "nbformat_minor": 2
}
